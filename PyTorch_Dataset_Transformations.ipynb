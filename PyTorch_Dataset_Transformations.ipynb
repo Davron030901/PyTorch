{
  "nbformat": 4,
  "nbformat_minor": 0,
  "metadata": {
    "colab": {
      "provenance": [],
      "include_colab_link": true
    },
    "kernelspec": {
      "name": "python3",
      "display_name": "Python 3"
    },
    "language_info": {
      "name": "python"
    }
  },
  "cells": [
    {
      "cell_type": "markdown",
      "metadata": {
        "id": "view-in-github",
        "colab_type": "text"
      },
      "source": [
        "<a href=\"https://colab.research.google.com/github/Davron030901/PyTorch/blob/main/PyTorch_Dataset_Transformations.ipynb\" target=\"_parent\"><img src=\"https://colab.research.google.com/assets/colab-badge.svg\" alt=\"Open In Colab\"/></a>"
      ]
    },
    {
      "cell_type": "code",
      "execution_count": null,
      "metadata": {
        "id": "UgXqJSQn_HQf"
      },
      "outputs": [],
      "source": [
        "import numpy as np\n",
        "import torch\n",
        "import torch.nn as nn\n",
        "import torch.optim as optim\n",
        "from torch.utils.data import Dataset, DataLoader\n",
        "from torchvision import transforms"
      ]
    },
    {
      "cell_type": "code",
      "source": [
        "class  TabularDataset(Dataset):\n",
        "    def __init__(self, data, transform=None):\n",
        "        self.data = data\n",
        "        self.transform = transform\n",
        "\n",
        "    def __len__(self):\n",
        "        return len(self.data)\n",
        "\n",
        "    def __getitem__(self, idx):\n",
        "\n",
        "        sample = self.data[idx]\n",
        "\n",
        "        if self.transform:\n",
        "            sample = self.transform(sample)\n",
        "\n",
        "        return sample"
      ],
      "metadata": {
        "id": "ycTVgg0O_v-7"
      },
      "execution_count": null,
      "outputs": []
    },
    {
      "cell_type": "code",
      "source": [
        "class ToTensor:\n",
        "    def __call__(self, sample):\n",
        "        features, label = sample[0],sample[1]\n",
        "        return {\"features\":torch.tensor(features,dtype=torch.float32),\n",
        "                'label0':torch.tensor(label,dtype=torch.float32)}\n",
        "#"
      ],
      "metadata": {
        "id": "-4Zz7OLLAQr6"
      },
      "execution_count": null,
      "outputs": []
    },
    {
      "cell_type": "code",
      "source": [
        "class Normalize:\n",
        "  def __call__(self, sample):\n",
        "        features, label = sample[0],sample[1]\n",
        "        normalized_features = (features - np.mean(features)) / np.std(features)\n",
        "        return (normalized_features, label)"
      ],
      "metadata": {
        "id": "Jznu3-MbBAp_"
      },
      "execution_count": null,
      "outputs": []
    },
    {
      "cell_type": "code",
      "source": [
        "tabular_data=[(np.random.rand(2),np.random.rand()) for _ in range(100)]"
      ],
      "metadata": {
        "id": "q_k7cv4UBkMq"
      },
      "execution_count": null,
      "outputs": []
    },
    {
      "cell_type": "code",
      "source": [
        "transform=transforms.Compose([Normalize(),ToTensor()])"
      ],
      "metadata": {
        "id": "hifkyLbgB52A"
      },
      "execution_count": null,
      "outputs": []
    },
    {
      "cell_type": "code",
      "source": [
        "dataset=TabularDataset(data=tabular_data,transform=transform)"
      ],
      "metadata": {
        "id": "v7yuGF-jCGy2"
      },
      "execution_count": null,
      "outputs": []
    },
    {
      "cell_type": "code",
      "source": [
        "dataloader=DataLoader(dataset,batch_size=16,shuffle=True)"
      ],
      "metadata": {
        "id": "LaNQUgctCRaP"
      },
      "execution_count": null,
      "outputs": []
    },
    {
      "cell_type": "code",
      "source": [
        "class SimpleModel(nn.Module):\n",
        "    def __init__(self,input_size):\n",
        "        super(SimpleModel,self).__init__()\n",
        "        self.fc=nn.Linear(input_size,1)\n",
        "\n",
        "    def forward(self,x):\n",
        "        return self.fc(x)"
      ],
      "metadata": {
        "id": "Ic4F5AVwC07Z"
      },
      "execution_count": null,
      "outputs": []
    },
    {
      "cell_type": "code",
      "source": [
        "model=SimpleModel(input_size=2)\n",
        "criterion=nn.MSELoss()\n",
        "optimizer=optim.SGD(model.parameters(),lr=0.01)"
      ],
      "metadata": {
        "id": "tG9atOGjDHbJ"
      },
      "execution_count": null,
      "outputs": []
    },
    {
      "cell_type": "code",
      "source": [
        "for batch in dataloader:\n",
        "    print(batch)\n",
        "    break"
      ],
      "metadata": {
        "colab": {
          "base_uri": "https://localhost:8080/"
        },
        "id": "xkzxEJQjFzjB",
        "outputId": "aa59604f-95c6-4aff-ea40-afeb48933984"
      },
      "execution_count": null,
      "outputs": [
        {
          "output_type": "stream",
          "name": "stdout",
          "text": [
            "{'features': tensor([[ 1., -1.],\n",
            "        [ 1., -1.],\n",
            "        [-1.,  1.],\n",
            "        [-1.,  1.],\n",
            "        [ 1., -1.],\n",
            "        [ 1., -1.],\n",
            "        [ 1., -1.],\n",
            "        [ 1., -1.],\n",
            "        [ 1., -1.],\n",
            "        [-1.,  1.],\n",
            "        [-1.,  1.],\n",
            "        [-1.,  1.],\n",
            "        [-1.,  1.],\n",
            "        [-1.,  1.],\n",
            "        [-1.,  1.],\n",
            "        [ 1., -1.]]), 'label0': tensor([0.9005, 0.8999, 0.0240, 0.4238, 0.3795, 0.7035, 0.2764, 0.0970, 0.6552,\n",
            "        0.8381, 0.2710, 0.9560, 0.2918, 0.3080, 0.5778, 0.3431])}\n"
          ]
        }
      ]
    },
    {
      "cell_type": "code",
      "source": [
        "num_epochs = 50\n",
        "for epoch in range(num_epochs):\n",
        "    model.train()\n",
        "    total_loss = 0.0\n",
        "\n",
        "    for batch in dataloader:\n",
        "        features, labels = batch['features'], batch['label0']  # Replace with correct keys\n",
        "\n",
        "        optimizer.zero_grad()\n",
        "        outputs = model(features)\n",
        "\n",
        "        # Fixing .view typo and ensure correct loss computation\n",
        "        loss = criterion(outputs, labels.view(-1, 1))  # Adjust shape as needed\n",
        "        loss.backward()\n",
        "        optimizer.step()\n",
        "\n",
        "        total_loss += loss.item()\n",
        "    average_loss = total_loss / len(dataloader)\n",
        "    print(f\"Epoch [{epoch+1}/{num_epochs}], Loss: {average_loss:.16f}\")\n"
      ],
      "metadata": {
        "colab": {
          "base_uri": "https://localhost:8080/"
        },
        "id": "Ov6MsKlGDfpw",
        "outputId": "35ec0093-b3dc-43e0-9479-d676e27485f3"
      },
      "execution_count": null,
      "outputs": [
        {
          "output_type": "stream",
          "name": "stdout",
          "text": [
            "Epoch [1/50], Loss: 0.0708350038954190\n",
            "Epoch [2/50], Loss: 0.0715022113706384\n",
            "Epoch [3/50], Loss: 0.0650565100035497\n",
            "Epoch [4/50], Loss: 0.0711928334619318\n",
            "Epoch [5/50], Loss: 0.0793164175535951\n",
            "Epoch [6/50], Loss: 0.0795771346560546\n",
            "Epoch [7/50], Loss: 0.0761365576514176\n",
            "Epoch [8/50], Loss: 0.0703573003411293\n",
            "Epoch [9/50], Loss: 0.0731372636343752\n",
            "Epoch [10/50], Loss: 0.0727355230067458\n",
            "Epoch [11/50], Loss: 0.0696262366005353\n",
            "Epoch [12/50], Loss: 0.0714518497032779\n",
            "Epoch [13/50], Loss: 0.0649103705904314\n",
            "Epoch [14/50], Loss: 0.0646731244134051\n",
            "Epoch [15/50], Loss: 0.0697937240558011\n",
            "Epoch [16/50], Loss: 0.0739819189267499\n",
            "Epoch [17/50], Loss: 0.0729693318051951\n",
            "Epoch [18/50], Loss: 0.0724594965577126\n",
            "Epoch [19/50], Loss: 0.0682445562311581\n",
            "Epoch [20/50], Loss: 0.0646745650363820\n",
            "Epoch [21/50], Loss: 0.0663530834551368\n",
            "Epoch [22/50], Loss: 0.0776276561830725\n",
            "Epoch [23/50], Loss: 0.0656832759933812\n",
            "Epoch [24/50], Loss: 0.0663629184876170\n",
            "Epoch [25/50], Loss: 0.0731199016528470\n",
            "Epoch [26/50], Loss: 0.0695789360574314\n",
            "Epoch [27/50], Loss: 0.0687055853860719\n",
            "Epoch [28/50], Loss: 0.0674373337200710\n",
            "Epoch [29/50], Loss: 0.0683458942387785\n",
            "Epoch [30/50], Loss: 0.0691788441368512\n",
            "Epoch [31/50], Loss: 0.0745457660939012\n",
            "Epoch [32/50], Loss: 0.0688677547233445\n",
            "Epoch [33/50], Loss: 0.0702432085360799\n",
            "Epoch [34/50], Loss: 0.0727094289447580\n",
            "Epoch [35/50], Loss: 0.0677947689379964\n",
            "Epoch [36/50], Loss: 0.0701579925205026\n",
            "Epoch [37/50], Loss: 0.0674684164779527\n",
            "Epoch [38/50], Loss: 0.0692308215158326\n",
            "Epoch [39/50], Loss: 0.0705401194947106\n",
            "Epoch [40/50], Loss: 0.0745475350746087\n",
            "Epoch [41/50], Loss: 0.0693772988659995\n",
            "Epoch [42/50], Loss: 0.0744538865983486\n",
            "Epoch [43/50], Loss: 0.0677021560924394\n",
            "Epoch [44/50], Loss: 0.0716633264507566\n",
            "Epoch [45/50], Loss: 0.0678394734859467\n",
            "Epoch [46/50], Loss: 0.0695491635373661\n",
            "Epoch [47/50], Loss: 0.0742406456598214\n",
            "Epoch [48/50], Loss: 0.0733005915369306\n",
            "Epoch [49/50], Loss: 0.0692453756928444\n",
            "Epoch [50/50], Loss: 0.0661697374390704\n"
          ]
        }
      ]
    },
    {
      "cell_type": "code",
      "source": [
        "model.eval()\n",
        "with torch.no_grad():\n",
        "\n",
        "    total_loss=0.0\n",
        "    for batch in dataloader:\n",
        "        features, labels = batch['features'], batch['label0']\n",
        "        outputs = model(features)\n",
        "        loss=criterion(outputs,labels.view(-1,1))\n",
        "        total_loss+=loss.item()\n",
        "\n",
        "    average_loss=total_loss/len(dataloader)\n",
        "    print(f\"Average Loss: {average_loss:.16f}\")"
      ],
      "metadata": {
        "colab": {
          "base_uri": "https://localhost:8080/"
        },
        "id": "4xN-gEn-EOiC",
        "outputId": "231c0a8d-8e7b-4089-bc5c-d7a678a04527"
      },
      "execution_count": null,
      "outputs": [
        {
          "output_type": "stream",
          "name": "stdout",
          "text": [
            "Average Loss: 0.0684957232858453\n"
          ]
        }
      ]
    }
  ]
}