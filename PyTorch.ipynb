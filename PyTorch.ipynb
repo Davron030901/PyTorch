{
  "nbformat": 4,
  "nbformat_minor": 0,
  "metadata": {
    "colab": {
      "provenance": [],
      "gpuType": "V28",
      "authorship_tag": "ABX9TyNXiVLBic18X+P114R3EnVV",
      "include_colab_link": true
    },
    "kernelspec": {
      "name": "python3",
      "display_name": "Python 3"
    },
    "language_info": {
      "name": "python"
    },
    "accelerator": "TPU"
  },
  "cells": [
    {
      "cell_type": "markdown",
      "metadata": {
        "id": "view-in-github",
        "colab_type": "text"
      },
      "source": [
        "<a href=\"https://colab.research.google.com/github/Davron030901/PyTorch/blob/main/PyTorch.ipynb\" target=\"_parent\"><img src=\"https://colab.research.google.com/assets/colab-badge.svg\" alt=\"Open In Colab\"/></a>"
      ]
    },
    {
      "cell_type": "code",
      "execution_count": 51,
      "metadata": {
        "id": "tOZNxtpqPqaW"
      },
      "outputs": [],
      "source": [
        "import torch\n",
        "import numpy as np"
      ]
    },
    {
      "cell_type": "code",
      "source": [
        "tensor_1 = torch.tensor([1,2,3])\n",
        "print(\"Our first PyTorch Tensor:\",tensor_1)"
      ],
      "metadata": {
        "colab": {
          "base_uri": "https://localhost:8080/"
        },
        "id": "MImLtq-TPw0u",
        "outputId": "8990f4a5-2220-4e23-9315-2ed23d3db286"
      },
      "execution_count": 52,
      "outputs": [
        {
          "output_type": "stream",
          "name": "stdout",
          "text": [
            "Our first PyTorch Tensor: tensor([1, 2, 3])\n"
          ]
        }
      ]
    },
    {
      "cell_type": "code",
      "source": [
        "array_1 = np.array([1,2,3])\n",
        "print(\"Our first NumPy Array:\",array_1)"
      ],
      "metadata": {
        "colab": {
          "base_uri": "https://localhost:8080/"
        },
        "id": "sH3xUNg-QMSv",
        "outputId": "2c96d5c0-83bb-4256-bf89-421868b871b7"
      },
      "execution_count": 53,
      "outputs": [
        {
          "output_type": "stream",
          "name": "stdout",
          "text": [
            "Our first NumPy Array: [1 2 3]\n"
          ]
        }
      ]
    },
    {
      "cell_type": "code",
      "source": [
        "tensor_from_numpy=torch.tensor(array_1)\n",
        "print(\"Our first PyTorch Tensor from NumPy Array:\",tensor_from_numpy)"
      ],
      "metadata": {
        "colab": {
          "base_uri": "https://localhost:8080/"
        },
        "id": "OIjGUDYJQSQk",
        "outputId": "5f663e92-d24d-4e35-e2d3-2ea9ae791240"
      },
      "execution_count": 54,
      "outputs": [
        {
          "output_type": "stream",
          "name": "stdout",
          "text": [
            "Our first PyTorch Tensor from NumPy Array: tensor([1, 2, 3])\n"
          ]
        }
      ]
    },
    {
      "cell_type": "code",
      "source": [
        "empty_tensot=torch.empty(3)\n",
        "print(\"Our first Empty Tensor:\",empty_tensot)"
      ],
      "metadata": {
        "colab": {
          "base_uri": "https://localhost:8080/"
        },
        "id": "evdzzMR6QsHi",
        "outputId": "eecc9cbd-189a-4e2e-f234-2c739922d328"
      },
      "execution_count": 55,
      "outputs": [
        {
          "output_type": "stream",
          "name": "stdout",
          "text": [
            "Our first Empty Tensor: tensor([4.1881e-11, 1.0606e-08, 2.9573e-18])\n"
          ]
        }
      ]
    },
    {
      "cell_type": "code",
      "source": [
        "zero_tensor=torch.zeros(2,3)\n",
        "print(\"Our first Zero Tensor:\",zero_tensor)"
      ],
      "metadata": {
        "colab": {
          "base_uri": "https://localhost:8080/"
        },
        "id": "U3ljM1djQ79s",
        "outputId": "8637f890-e59b-41a8-866a-42ce8bc198d6"
      },
      "execution_count": 56,
      "outputs": [
        {
          "output_type": "stream",
          "name": "stdout",
          "text": [
            "Our first Zero Tensor: tensor([[0., 0., 0.],\n",
            "        [0., 0., 0.]])\n"
          ]
        }
      ]
    },
    {
      "cell_type": "code",
      "source": [
        "one_tensor=torch.ones(2,3)\n",
        "print(\"Our first one Tensor:\",one_tensor)"
      ],
      "metadata": {
        "colab": {
          "base_uri": "https://localhost:8080/"
        },
        "id": "2LVvCPTuRL7d",
        "outputId": "1f53136d-6577-43d3-cc04-4e0b4abfd9c5"
      },
      "execution_count": 57,
      "outputs": [
        {
          "output_type": "stream",
          "name": "stdout",
          "text": [
            "Our first one Tensor: tensor([[1., 1., 1.],\n",
            "        [1., 1., 1.]])\n"
          ]
        }
      ]
    },
    {
      "cell_type": "code",
      "source": [
        "random_tensor=torch.rand(3,3)\n",
        "print(\"Our first Random Tensor:\",random_tensor)"
      ],
      "metadata": {
        "colab": {
          "base_uri": "https://localhost:8080/"
        },
        "id": "w3JM1rIIRPrR",
        "outputId": "9de6cb0e-a20f-48a6-ced5-8971a0e8c276"
      },
      "execution_count": 58,
      "outputs": [
        {
          "output_type": "stream",
          "name": "stdout",
          "text": [
            "Our first Random Tensor: tensor([[0.4658, 0.7857, 0.4665],\n",
            "        [0.8195, 0.8616, 0.8466],\n",
            "        [0.1829, 0.0200, 0.2541]])\n"
          ]
        }
      ]
    },
    {
      "cell_type": "code",
      "source": [
        "arrange_tensor=torch.arange(0,100,10)\n",
        "print(\"Our first Arrange Tensor:\",arrange_tensor)"
      ],
      "metadata": {
        "colab": {
          "base_uri": "https://localhost:8080/"
        },
        "id": "VGUl3It9RYco",
        "outputId": "7d314655-d4fb-4e6a-f02b-3d65c6dd151f"
      },
      "execution_count": 59,
      "outputs": [
        {
          "output_type": "stream",
          "name": "stdout",
          "text": [
            "Our first Arrange Tensor: tensor([ 0, 10, 20, 30, 40, 50, 60, 70, 80, 90])\n"
          ]
        }
      ]
    },
    {
      "cell_type": "code",
      "source": [
        "random_tensor[1,1]"
      ],
      "metadata": {
        "colab": {
          "base_uri": "https://localhost:8080/"
        },
        "id": "Ts1Idw3yRlCW",
        "outputId": "2d115cf5-5699-4879-e0f9-58cc735ed79a"
      },
      "execution_count": 60,
      "outputs": [
        {
          "output_type": "execute_result",
          "data": {
            "text/plain": [
              "tensor(0.8616)"
            ]
          },
          "metadata": {},
          "execution_count": 60
        }
      ]
    },
    {
      "cell_type": "code",
      "source": [
        "random_tensor[1,:]"
      ],
      "metadata": {
        "colab": {
          "base_uri": "https://localhost:8080/"
        },
        "id": "B-AUbqKGRzIz",
        "outputId": "215cbedc-e954-4b00-9841-e2202da826e5"
      },
      "execution_count": 61,
      "outputs": [
        {
          "output_type": "execute_result",
          "data": {
            "text/plain": [
              "tensor([0.8195, 0.8616, 0.8466])"
            ]
          },
          "metadata": {},
          "execution_count": 61
        }
      ]
    },
    {
      "cell_type": "code",
      "source": [
        "random_tensor[:,0]"
      ],
      "metadata": {
        "colab": {
          "base_uri": "https://localhost:8080/"
        },
        "id": "MEB5mniKR9cH",
        "outputId": "22ef16bf-b8c4-46dc-c605-a06ebd566224"
      },
      "execution_count": 62,
      "outputs": [
        {
          "output_type": "execute_result",
          "data": {
            "text/plain": [
              "tensor([0.4658, 0.8195, 0.1829])"
            ]
          },
          "metadata": {},
          "execution_count": 62
        }
      ]
    },
    {
      "cell_type": "code",
      "source": [
        "random_tensor[1,1].item()"
      ],
      "metadata": {
        "colab": {
          "base_uri": "https://localhost:8080/"
        },
        "id": "qO45jHiKSGRl",
        "outputId": "0c472374-5297-4cd8-8dcc-326e9d36daba"
      },
      "execution_count": 63,
      "outputs": [
        {
          "output_type": "execute_result",
          "data": {
            "text/plain": [
              "0.8616231083869934"
            ]
          },
          "metadata": {},
          "execution_count": 63
        }
      ]
    },
    {
      "cell_type": "code",
      "source": [
        "reshape_tensor=torch.rand(5,4)\n",
        "print(\"Our first Reshape Tensor:\",reshape_tensor)"
      ],
      "metadata": {
        "colab": {
          "base_uri": "https://localhost:8080/"
        },
        "id": "Sxd4wz_KSNe7",
        "outputId": "3c1d77fa-05a9-44f6-97cf-313bd06b0039"
      },
      "execution_count": 64,
      "outputs": [
        {
          "output_type": "stream",
          "name": "stdout",
          "text": [
            "Our first Reshape Tensor: tensor([[0.1599, 0.5025, 0.2130, 0.9356],\n",
            "        [0.3008, 0.5546, 0.8491, 0.8059],\n",
            "        [0.2229, 0.9475, 0.8261, 0.9913],\n",
            "        [0.9736, 0.1592, 0.9469, 0.9898],\n",
            "        [0.0705, 0.9239, 0.4946, 0.2232]])\n"
          ]
        }
      ]
    },
    {
      "cell_type": "code",
      "source": [
        "new_reshape_tensor=reshape_tensor.view(-1,2)\n",
        "print(\"Our first New Reshape Tensor:\",new_reshape_tensor)"
      ],
      "metadata": {
        "colab": {
          "base_uri": "https://localhost:8080/"
        },
        "id": "GFdyZ3X9Sebc",
        "outputId": "8763c07f-31fe-4b16-c2a5-2fb8b7f300fe"
      },
      "execution_count": 65,
      "outputs": [
        {
          "output_type": "stream",
          "name": "stdout",
          "text": [
            "Our first New Reshape Tensor: tensor([[0.1599, 0.5025],\n",
            "        [0.2130, 0.9356],\n",
            "        [0.3008, 0.5546],\n",
            "        [0.8491, 0.8059],\n",
            "        [0.2229, 0.9475],\n",
            "        [0.8261, 0.9913],\n",
            "        [0.9736, 0.1592],\n",
            "        [0.9469, 0.9898],\n",
            "        [0.0705, 0.9239],\n",
            "        [0.4946, 0.2232]])\n"
          ]
        }
      ]
    },
    {
      "cell_type": "code",
      "source": [
        "tensor_a=torch.tensor([1,2,3])\n",
        "tensor_b=torch.tensor([4,5,6])\n",
        "\n",
        "result_add_1=torch.add(tensor_b,tensor_a)\n",
        "print(\"Our first Add Tensor:\",result_add_1)"
      ],
      "metadata": {
        "colab": {
          "base_uri": "https://localhost:8080/"
        },
        "id": "EeP_CCR2S6bO",
        "outputId": "a3bea083-30f3-4c8a-f5b5-45f5383cc7b7"
      },
      "execution_count": 66,
      "outputs": [
        {
          "output_type": "stream",
          "name": "stdout",
          "text": [
            "Our first Add Tensor: tensor([5, 7, 9])\n"
          ]
        }
      ]
    },
    {
      "cell_type": "code",
      "source": [
        "result_add_2=tensor_a+tensor_b\n",
        "print(\"Our second Add Tensor:\",result_add_2)"
      ],
      "metadata": {
        "colab": {
          "base_uri": "https://localhost:8080/"
        },
        "id": "cFcmwOKES5p7",
        "outputId": "1c0d2b0d-dae1-4a07-f2e0-5864e49668bc"
      },
      "execution_count": 67,
      "outputs": [
        {
          "output_type": "stream",
          "name": "stdout",
          "text": [
            "Our second Add Tensor: tensor([5, 7, 9])\n"
          ]
        }
      ]
    },
    {
      "cell_type": "code",
      "source": [
        "result_sub_1=torch.sub(tensor_b,tensor_a)\n",
        "print(\"Our first Sub Tensor:\",result_sub_1)"
      ],
      "metadata": {
        "colab": {
          "base_uri": "https://localhost:8080/"
        },
        "id": "mm1OT462S5Zg",
        "outputId": "f92025d4-5118-44b3-c27a-d7d370fd9cee"
      },
      "execution_count": 68,
      "outputs": [
        {
          "output_type": "stream",
          "name": "stdout",
          "text": [
            "Our first Sub Tensor: tensor([3, 3, 3])\n"
          ]
        }
      ]
    },
    {
      "cell_type": "code",
      "source": [
        "tensor_b.add_(tensor_a)\n",
        "print(\"Our sird Add Tensor:\",tensor_b)"
      ],
      "metadata": {
        "colab": {
          "base_uri": "https://localhost:8080/"
        },
        "id": "Za9LbzsLTon7",
        "outputId": "cbc2345f-a5ff-4dea-e1bf-b3ccebf19961"
      },
      "execution_count": 69,
      "outputs": [
        {
          "output_type": "stream",
          "name": "stdout",
          "text": [
            "Our sird Add Tensor: tensor([5, 7, 9])\n"
          ]
        }
      ]
    },
    {
      "cell_type": "markdown",
      "source": [
        "[2,4]x[4,3]"
      ],
      "metadata": {
        "id": "KgkQ3As3UDro"
      }
    },
    {
      "cell_type": "code",
      "source": [
        "matrix_a=torch.tensor([[2,4],[6,8]])\n",
        "matrix_b=torch.tensor([[3,5],[7,9]])"
      ],
      "metadata": {
        "id": "LN5LSy7wT91S"
      },
      "execution_count": 70,
      "outputs": []
    },
    {
      "cell_type": "code",
      "source": [
        "print(\"Our first Matrix:\",matrix_a)\n",
        "print(\"Our second Matrix:\",matrix_b)"
      ],
      "metadata": {
        "colab": {
          "base_uri": "https://localhost:8080/"
        },
        "id": "uwJJucuvWku1",
        "outputId": "66029518-63b2-4946-9d49-b3cc4083a74f"
      },
      "execution_count": 71,
      "outputs": [
        {
          "output_type": "stream",
          "name": "stdout",
          "text": [
            "Our first Matrix: tensor([[2, 4],\n",
            "        [6, 8]])\n",
            "Our second Matrix: tensor([[3, 5],\n",
            "        [7, 9]])\n"
          ]
        }
      ]
    },
    {
      "cell_type": "code",
      "source": [
        "result_multiply=torch.mm(matrix_a,matrix_b)\n",
        "print(\"Our first Multiply Tensor:\",result_multiply)"
      ],
      "metadata": {
        "colab": {
          "base_uri": "https://localhost:8080/"
        },
        "id": "plmk4-0dUeXx",
        "outputId": "4ace7f86-920a-4a6d-fed8-25fdbb0f348c"
      },
      "execution_count": 72,
      "outputs": [
        {
          "output_type": "stream",
          "name": "stdout",
          "text": [
            "Our first Multiply Tensor: tensor([[ 34,  46],\n",
            "        [ 74, 102]])\n"
          ]
        }
      ]
    },
    {
      "cell_type": "code",
      "source": [
        "result_multiply_2=matrix_a@matrix_b\n",
        "print(\"Our second Multiply Tensor:\",result_multiply_2)"
      ],
      "metadata": {
        "colab": {
          "base_uri": "https://localhost:8080/"
        },
        "id": "ZqlicaJPWila",
        "outputId": "6a966cd2-a00c-4157-abbf-844f844084bd"
      },
      "execution_count": 73,
      "outputs": [
        {
          "output_type": "stream",
          "name": "stdout",
          "text": [
            "Our second Multiply Tensor: tensor([[ 34,  46],\n",
            "        [ 74, 102]])\n"
          ]
        }
      ]
    },
    {
      "cell_type": "code",
      "source": [
        "result_multiply_3=torch.mul(matrix_a,matrix_b)\n",
        "print(\"Our third Multiply Tensor:\",result_multiply_3)"
      ],
      "metadata": {
        "colab": {
          "base_uri": "https://localhost:8080/"
        },
        "id": "ytJv7AyKW0zp",
        "outputId": "2d2d6a7a-f5b2-43e7-dd85-77bb36d827f2"
      },
      "execution_count": 74,
      "outputs": [
        {
          "output_type": "stream",
          "name": "stdout",
          "text": [
            "Our third Multiply Tensor: tensor([[ 6, 20],\n",
            "        [42, 72]])\n"
          ]
        }
      ]
    },
    {
      "cell_type": "code",
      "source": [
        "result_multiply_4=matrix_a*matrix_b\n",
        "print(\"Our fourth Multiply Tensor:\",result_multiply_4)"
      ],
      "metadata": {
        "colab": {
          "base_uri": "https://localhost:8080/"
        },
        "id": "AoEbSq5qXCWA",
        "outputId": "7f868935-0420-4d25-dce7-b47a542971ac"
      },
      "execution_count": 75,
      "outputs": [
        {
          "output_type": "stream",
          "name": "stdout",
          "text": [
            "Our fourth Multiply Tensor: tensor([[ 6, 20],\n",
            "        [42, 72]])\n"
          ]
        }
      ]
    },
    {
      "cell_type": "code",
      "source": [
        "result_multiply_3=torch.matmul(matrix_a,matrix_b)\n",
        "print(\"Our third Multiply Tensor:\",result_multiply_3)"
      ],
      "metadata": {
        "colab": {
          "base_uri": "https://localhost:8080/"
        },
        "id": "iiwjJzTKXEXx",
        "outputId": "c02b7f08-d24a-479b-9ddf-3f8dcc82239d"
      },
      "execution_count": 76,
      "outputs": [
        {
          "output_type": "stream",
          "name": "stdout",
          "text": [
            "Our third Multiply Tensor: tensor([[ 34,  46],\n",
            "        [ 74, 102]])\n"
          ]
        }
      ]
    },
    {
      "cell_type": "code",
      "source": [
        "result_multiply_4=matrix_a.mm(matrix_b)\n",
        "print(\"Our fourth Multiply Tensor:\",result_multiply_4)"
      ],
      "metadata": {
        "colab": {
          "base_uri": "https://localhost:8080/"
        },
        "id": "y5DCZYhLXSxx",
        "outputId": "045cd241-79a4-4983-e47d-fec9ad135586"
      },
      "execution_count": 77,
      "outputs": [
        {
          "output_type": "stream",
          "name": "stdout",
          "text": [
            "Our fourth Multiply Tensor: tensor([[ 34,  46],\n",
            "        [ 74, 102]])\n"
          ]
        }
      ]
    },
    {
      "cell_type": "code",
      "source": [
        "result_multiply.dtype"
      ],
      "metadata": {
        "colab": {
          "base_uri": "https://localhost:8080/"
        },
        "id": "A6vNcnhGXYBw",
        "outputId": "565c9104-e535-4c4e-bf9c-f27430577303"
      },
      "execution_count": 78,
      "outputs": [
        {
          "output_type": "execute_result",
          "data": {
            "text/plain": [
              "torch.int64"
            ]
          },
          "metadata": {},
          "execution_count": 78
        }
      ]
    },
    {
      "cell_type": "code",
      "source": [
        "random_tensor.dtype"
      ],
      "metadata": {
        "colab": {
          "base_uri": "https://localhost:8080/"
        },
        "id": "2qPeVgGGXjTD",
        "outputId": "14bbcaed-2ad7-4a33-c09a-0949bfa3729e"
      },
      "execution_count": 79,
      "outputs": [
        {
          "output_type": "execute_result",
          "data": {
            "text/plain": [
              "torch.float32"
            ]
          },
          "metadata": {},
          "execution_count": 79
        }
      ]
    },
    {
      "cell_type": "code",
      "source": [
        "tensor_int=torch.tensor([4,5,6],dtype=torch.int64)\n",
        "print(\"Our first Int Tensor:\",tensor_int)\n",
        "print(\"Our first Int Tensor:\",tensor_int.dtype)"
      ],
      "metadata": {
        "colab": {
          "base_uri": "https://localhost:8080/"
        },
        "id": "TlWXy2AHXmjx",
        "outputId": "5bacfed8-9c6b-4a6a-d579-9cba07e1bce5"
      },
      "execution_count": 80,
      "outputs": [
        {
          "output_type": "stream",
          "name": "stdout",
          "text": [
            "Our first Int Tensor: tensor([4, 5, 6])\n",
            "Our first Int Tensor: torch.int64\n"
          ]
        }
      ]
    },
    {
      "cell_type": "code",
      "source": [
        "tensor_float=tensor_int.to(torch.float32)"
      ],
      "metadata": {
        "id": "DrmEyH1gXn1m"
      },
      "execution_count": 81,
      "outputs": []
    },
    {
      "cell_type": "code",
      "source": [
        "print(\"Our first Float Tensor:\",tensor_float)\n",
        "print(\"Our first Float Tensor:\",tensor_float.dtype)"
      ],
      "metadata": {
        "colab": {
          "base_uri": "https://localhost:8080/"
        },
        "id": "gIZ-ROkyYXUT",
        "outputId": "ed0f627e-4154-4224-cd8e-d487fe92d244"
      },
      "execution_count": 82,
      "outputs": [
        {
          "output_type": "stream",
          "name": "stdout",
          "text": [
            "Our first Float Tensor: tensor([4., 5., 6.])\n",
            "Our first Float Tensor: torch.float32\n"
          ]
        }
      ]
    },
    {
      "cell_type": "code",
      "source": [
        "tensor_float.device"
      ],
      "metadata": {
        "colab": {
          "base_uri": "https://localhost:8080/"
        },
        "id": "8eTjIddeXnop",
        "outputId": "fb9b086a-c660-45b4-b009-9f551f56de93"
      },
      "execution_count": 83,
      "outputs": [
        {
          "output_type": "execute_result",
          "data": {
            "text/plain": [
              "device(type='cpu')"
            ]
          },
          "metadata": {},
          "execution_count": 83
        }
      ]
    },
    {
      "cell_type": "code",
      "source": [
        "device=torch.device('cuda' if torch.cuda.is_available() else 'cpu')"
      ],
      "metadata": {
        "id": "1xnxoOtHXnl8"
      },
      "execution_count": 84,
      "outputs": []
    },
    {
      "cell_type": "code",
      "source": [
        "tensor_float.to(device)"
      ],
      "metadata": {
        "colab": {
          "base_uri": "https://localhost:8080/"
        },
        "id": "DDSP-nR7XnjJ",
        "outputId": "61bdb618-6323-4d1b-9600-fb0e051e4de9"
      },
      "execution_count": 85,
      "outputs": [
        {
          "output_type": "execute_result",
          "data": {
            "text/plain": [
              "tensor([4., 5., 6.])"
            ]
          },
          "metadata": {},
          "execution_count": 85
        }
      ]
    },
    {
      "cell_type": "code",
      "source": [
        "tensor_float.device"
      ],
      "metadata": {
        "colab": {
          "base_uri": "https://localhost:8080/"
        },
        "id": "ToUNHHSdXnfz",
        "outputId": "abb7cdb4-efe8-44d3-90b2-ec46e9f3a33f"
      },
      "execution_count": 86,
      "outputs": [
        {
          "output_type": "execute_result",
          "data": {
            "text/plain": [
              "device(type='cpu')"
            ]
          },
          "metadata": {},
          "execution_count": 86
        }
      ]
    },
    {
      "cell_type": "code",
      "source": [
        "torch.cuda.device_count()"
      ],
      "metadata": {
        "colab": {
          "base_uri": "https://localhost:8080/"
        },
        "id": "aKCaBgtuXncY",
        "outputId": "30b4fe4a-e469-4a38-db18-f95715719691"
      },
      "execution_count": 87,
      "outputs": [
        {
          "output_type": "execute_result",
          "data": {
            "text/plain": [
              "0"
            ]
          },
          "metadata": {},
          "execution_count": 87
        }
      ]
    },
    {
      "cell_type": "code",
      "source": [
        "tensor_new=torch.tensor([51.4,46.2,39.3],dtype=torch.float32,device=device)"
      ],
      "metadata": {
        "id": "WSiwBaApXnZa"
      },
      "execution_count": 88,
      "outputs": []
    },
    {
      "cell_type": "code",
      "source": [
        "tensor_new.shape"
      ],
      "metadata": {
        "colab": {
          "base_uri": "https://localhost:8080/"
        },
        "id": "1irpxkBLXnWH",
        "outputId": "aa0bc3d9-ad28-4254-b8d5-9eebad33b858"
      },
      "execution_count": 89,
      "outputs": [
        {
          "output_type": "execute_result",
          "data": {
            "text/plain": [
              "torch.Size([3])"
            ]
          },
          "metadata": {},
          "execution_count": 89
        }
      ]
    },
    {
      "cell_type": "code",
      "source": [
        "random_tensor.shape"
      ],
      "metadata": {
        "colab": {
          "base_uri": "https://localhost:8080/"
        },
        "id": "TpMGS6hEaCOq",
        "outputId": "63b049b1-d1dc-4c0e-9c2b-b62f03512b72"
      },
      "execution_count": 90,
      "outputs": [
        {
          "output_type": "execute_result",
          "data": {
            "text/plain": [
              "torch.Size([3, 3])"
            ]
          },
          "metadata": {},
          "execution_count": 90
        }
      ]
    }
  ]
}