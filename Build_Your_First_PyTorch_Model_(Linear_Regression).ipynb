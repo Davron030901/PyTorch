{
  "nbformat": 4,
  "nbformat_minor": 0,
  "metadata": {
    "colab": {
      "provenance": [],
      "authorship_tag": "ABX9TyN5opT6OQkuMmVqGOx7uwEQ",
      "include_colab_link": true
    },
    "kernelspec": {
      "name": "python3",
      "display_name": "Python 3"
    },
    "language_info": {
      "name": "python"
    }
  },
  "cells": [
    {
      "cell_type": "markdown",
      "metadata": {
        "id": "view-in-github",
        "colab_type": "text"
      },
      "source": [
        "<a href=\"https://colab.research.google.com/github/Davron030901/PyTorch/blob/main/Build_Your_First_PyTorch_Model_(Linear_Regression).ipynb\" target=\"_parent\"><img src=\"https://colab.research.google.com/assets/colab-badge.svg\" alt=\"Open In Colab\"/></a>"
      ]
    },
    {
      "cell_type": "code",
      "execution_count": 1,
      "metadata": {
        "id": "0H_q6Z3ShvI0"
      },
      "outputs": [],
      "source": [
        "import torch\n",
        "import torch.nn as nn\n",
        "import torch.optim as optim\n",
        "import numpy as np\n",
        "import matplotlib.pyplot as plt"
      ]
    },
    {
      "cell_type": "code",
      "source": [
        "X=np.array([x for x in range(100)]).reshape(-1,1)\n",
        "y=46+2*X.flatten()"
      ],
      "metadata": {
        "id": "yG7773Z5iUoC"
      },
      "execution_count": 2,
      "outputs": []
    },
    {
      "cell_type": "code",
      "source": [
        "X"
      ],
      "metadata": {
        "colab": {
          "base_uri": "https://localhost:8080/"
        },
        "id": "0KBO6NQ1i7Ob",
        "outputId": "892ae20e-ce6e-4dd8-c570-759217494984"
      },
      "execution_count": 3,
      "outputs": [
        {
          "output_type": "execute_result",
          "data": {
            "text/plain": [
              "array([[ 0],\n",
              "       [ 1],\n",
              "       [ 2],\n",
              "       [ 3],\n",
              "       [ 4],\n",
              "       [ 5],\n",
              "       [ 6],\n",
              "       [ 7],\n",
              "       [ 8],\n",
              "       [ 9],\n",
              "       [10],\n",
              "       [11],\n",
              "       [12],\n",
              "       [13],\n",
              "       [14],\n",
              "       [15],\n",
              "       [16],\n",
              "       [17],\n",
              "       [18],\n",
              "       [19],\n",
              "       [20],\n",
              "       [21],\n",
              "       [22],\n",
              "       [23],\n",
              "       [24],\n",
              "       [25],\n",
              "       [26],\n",
              "       [27],\n",
              "       [28],\n",
              "       [29],\n",
              "       [30],\n",
              "       [31],\n",
              "       [32],\n",
              "       [33],\n",
              "       [34],\n",
              "       [35],\n",
              "       [36],\n",
              "       [37],\n",
              "       [38],\n",
              "       [39],\n",
              "       [40],\n",
              "       [41],\n",
              "       [42],\n",
              "       [43],\n",
              "       [44],\n",
              "       [45],\n",
              "       [46],\n",
              "       [47],\n",
              "       [48],\n",
              "       [49],\n",
              "       [50],\n",
              "       [51],\n",
              "       [52],\n",
              "       [53],\n",
              "       [54],\n",
              "       [55],\n",
              "       [56],\n",
              "       [57],\n",
              "       [58],\n",
              "       [59],\n",
              "       [60],\n",
              "       [61],\n",
              "       [62],\n",
              "       [63],\n",
              "       [64],\n",
              "       [65],\n",
              "       [66],\n",
              "       [67],\n",
              "       [68],\n",
              "       [69],\n",
              "       [70],\n",
              "       [71],\n",
              "       [72],\n",
              "       [73],\n",
              "       [74],\n",
              "       [75],\n",
              "       [76],\n",
              "       [77],\n",
              "       [78],\n",
              "       [79],\n",
              "       [80],\n",
              "       [81],\n",
              "       [82],\n",
              "       [83],\n",
              "       [84],\n",
              "       [85],\n",
              "       [86],\n",
              "       [87],\n",
              "       [88],\n",
              "       [89],\n",
              "       [90],\n",
              "       [91],\n",
              "       [92],\n",
              "       [93],\n",
              "       [94],\n",
              "       [95],\n",
              "       [96],\n",
              "       [97],\n",
              "       [98],\n",
              "       [99]])"
            ]
          },
          "metadata": {},
          "execution_count": 3
        }
      ]
    },
    {
      "cell_type": "code",
      "source": [
        "y"
      ],
      "metadata": {
        "colab": {
          "base_uri": "https://localhost:8080/"
        },
        "id": "72Bbbamji79k",
        "outputId": "bc9469c2-2f5d-4c9b-a8ae-aa7e32273279"
      },
      "execution_count": 4,
      "outputs": [
        {
          "output_type": "execute_result",
          "data": {
            "text/plain": [
              "array([ 46,  48,  50,  52,  54,  56,  58,  60,  62,  64,  66,  68,  70,\n",
              "        72,  74,  76,  78,  80,  82,  84,  86,  88,  90,  92,  94,  96,\n",
              "        98, 100, 102, 104, 106, 108, 110, 112, 114, 116, 118, 120, 122,\n",
              "       124, 126, 128, 130, 132, 134, 136, 138, 140, 142, 144, 146, 148,\n",
              "       150, 152, 154, 156, 158, 160, 162, 164, 166, 168, 170, 172, 174,\n",
              "       176, 178, 180, 182, 184, 186, 188, 190, 192, 194, 196, 198, 200,\n",
              "       202, 204, 206, 208, 210, 212, 214, 216, 218, 220, 222, 224, 226,\n",
              "       228, 230, 232, 234, 236, 238, 240, 242, 244])"
            ]
          },
          "metadata": {},
          "execution_count": 4
        }
      ]
    },
    {
      "cell_type": "code",
      "source": [
        "plt.scatter(X,y,label=\"Initial Data\")\n",
        "plt.title(\"Pre PyTorch\")\n",
        "plt.xlabel(\"X\")\n",
        "plt.ylabel(\"y\")\n",
        "plt.legend()\n",
        "plt.show()"
      ],
      "metadata": {
        "colab": {
          "base_uri": "https://localhost:8080/",
          "height": 472
        },
        "id": "Utd1blYPjBTZ",
        "outputId": "a6f770fa-a43b-4ec7-fd94-9d4b94395df0"
      },
      "execution_count": 23,
      "outputs": [
        {
          "output_type": "display_data",
          "data": {
            "text/plain": [
              "<Figure size 640x480 with 1 Axes>"
            ],
            "image/png": "[encoded data removed]"
          },
          "metadata": {}
        }
      ]
    },
    {
      "cell_type": "code",
      "source": [
        "x_mean,x_std=X.mean(),X.std()\n",
        "X_normalize=(X-x_mean)/x_std\n",
        "X_tensor=torch.tensor(X_normalize,dtype=torch.float32)"
      ],
      "metadata": {
        "id": "ECs9K5wsjqI8"
      },
      "execution_count": 7,
      "outputs": []
    },
    {
      "cell_type": "code",
      "source": [
        "print(X_tensor.shape)"
      ],
      "metadata": {
        "colab": {
          "base_uri": "https://localhost:8080/"
        },
        "id": "EhYv-hkakfNN",
        "outputId": "652f5dc8-1918-4050-97ad-275b67ca85aa"
      },
      "execution_count": 8,
      "outputs": [
        {
          "output_type": "stream",
          "name": "stdout",
          "text": [
            "torch.Size([100, 1])\n"
          ]
        }
      ]
    },
    {
      "cell_type": "code",
      "source": [
        "y_mean,y_std=y.mean(),y.std()\n",
        "y_normalize=(y-y_mean)/y_std\n",
        "y_tensor=torch.tensor(y_normalize,dtype=torch.float32)"
      ],
      "metadata": {
        "id": "u6SRoqOvktXh"
      },
      "execution_count": 9,
      "outputs": []
    },
    {
      "cell_type": "code",
      "source": [
        "print(y_tensor.shape)"
      ],
      "metadata": {
        "colab": {
          "base_uri": "https://localhost:8080/"
        },
        "id": "GYcPLPcJk0Ig",
        "outputId": "78705cb4-b1b0-4023-d481-44a51eb05c44"
      },
      "execution_count": 10,
      "outputs": [
        {
          "output_type": "stream",
          "name": "stdout",
          "text": [
            "torch.Size([100])\n"
          ]
        }
      ]
    },
    {
      "cell_type": "code",
      "source": [
        "class LinearRegressionModel(nn.Module):\n",
        "    def __init__(self,input_dim,output_dim):\n",
        "        super(LinearRegressionModel,self).__init__()\n",
        "        self.linear=nn.Linear(input_dim,output_dim)\n",
        "\n",
        "    def forward(self,x):\n",
        "      return self.linear(x).squeeze(1)"
      ],
      "metadata": {
        "id": "FXq4wml4k1tH"
      },
      "execution_count": 11,
      "outputs": []
    },
    {
      "cell_type": "code",
      "source": [
        "input_dim=1\n",
        "output_dim=1\n",
        "model=LinearRegressionModel(input_dim,output_dim)"
      ],
      "metadata": {
        "id": "zwkZvbWxlxsU"
      },
      "execution_count": 12,
      "outputs": []
    },
    {
      "cell_type": "code",
      "source": [
        "criterion=nn.MSELoss()\n",
        "optimizer=optim.SGD(model.parameters(),lr=0.1)"
      ],
      "metadata": {
        "id": "J9DYd5tEl-U_"
      },
      "execution_count": 13,
      "outputs": []
    },
    {
      "cell_type": "code",
      "source": [
        "num_epochs=10"
      ],
      "metadata": {
        "id": "H3hEBnyBmS_g"
      },
      "execution_count": 18,
      "outputs": []
    },
    {
      "cell_type": "code",
      "source": [
        "for epoch in range(num_epochs):\n",
        "  # forvard pass\n",
        "  y_pred=model(X_tensor)\n",
        "  # calculate loss\n",
        "  loss=criterion(y_pred,y_tensor)\n",
        "\n",
        "  # backwardpass and opimization\n",
        "  optimizer.zero_grad()\n",
        "  loss.backward()\n",
        "  optimizer.step()\n",
        "  print(f\"Epoch {epoch+1}/{num_epochs}, Loss: {loss.item():.5f}\")"
      ],
      "metadata": {
        "colab": {
          "base_uri": "https://localhost:8080/"
        },
        "id": "wd7wcaezmm9Y",
        "outputId": "163d164a-c191-420e-f75b-d338ee1a5048"
      },
      "execution_count": 19,
      "outputs": [
        {
          "output_type": "stream",
          "name": "stdout",
          "text": [
            "Epoch 1/10, Loss: 0.00001\n",
            "Epoch 2/10, Loss: 0.00001\n",
            "Epoch 3/10, Loss: 0.00000\n",
            "Epoch 4/10, Loss: 0.00000\n",
            "Epoch 5/10, Loss: 0.00000\n",
            "Epoch 6/10, Loss: 0.00000\n",
            "Epoch 7/10, Loss: 0.00000\n",
            "Epoch 8/10, Loss: 0.00000\n",
            "Epoch 9/10, Loss: 0.00000\n",
            "Epoch 10/10, Loss: 0.00000\n"
          ]
        }
      ]
    },
    {
      "cell_type": "code",
      "source": [
        "new_x=121\n",
        "new_x_normalized=(new_x-x_mean)/x_std\n",
        "new_x_tensor=torch.tensor(new_x_normalized,dtype=torch.float32).view(1,-1)\n",
        "model.eval()\n",
        "with torch.no_grad():\n",
        "  predicted_normalized=model(new_x_tensor)\n",
        "predicted_denormalized=predicted_normalized.item()*y_std+y_mean\n",
        "print(f\"Predicted value for {new_x}: {predicted_denormalized}\")"
      ],
      "metadata": {
        "colab": {
          "base_uri": "https://localhost:8080/"
        },
        "id": "V1Jx73EWm8-h",
        "outputId": "340b2f9c-20ff-4468-d00d-1f68e2a185ba"
      },
      "execution_count": 22,
      "outputs": [
        {
          "output_type": "stream",
          "name": "stdout",
          "text": [
            "Predicted value for 121: 287.9448930659052\n"
          ]
        }
      ]
    },
    {
      "cell_type": "code",
      "source": [
        "plt.scatter(X,y,label=\"Initial Data\")\n",
        "\n",
        "fit_line=model(X_tensor).detach().numpy()*y_std+y_mean\n",
        "\n",
        "plt.plot(X,fit_line,color=\"red\",label=\"Fitted Line\")\n",
        "plt.title(\"Pre PyTorch\")\n",
        "plt.xlabel(\"X\")\n",
        "plt.ylabel(\"y\")\n",
        "plt.legend()\n",
        "plt.show()"
      ],
      "metadata": {
        "colab": {
          "base_uri": "https://localhost:8080/",
          "height": 472
        },
        "id": "ux3tgTs8o1Vr",
        "outputId": "fb2eb881-1ef2-45df-90a1-e1e42181a2f0"
      },
      "execution_count": 24,
      "outputs": [
        {
          "output_type": "display_data",
          "data": {
            "text/plain": [
              "<Figure size 640x480 with 1 Axes>"
            ],
            "image/png": "[encoded data removed]"
          },
          "metadata": {}
        }
      ]
    }
  ]
}