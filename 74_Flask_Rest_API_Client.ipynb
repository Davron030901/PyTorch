{
  "nbformat": 4,
  "nbformat_minor": 0,
  "metadata": {
    "colab": {
      "provenance": [],
      "include_colab_link": true
    },
    "kernelspec": {
      "name": "python3",
      "display_name": "Python 3"
    },
    "language_info": {
      "name": "python"
    }
  },
  "cells": [
    {
      "cell_type": "markdown",
      "metadata": {
        "id": "view-in-github",
        "colab_type": "text"
      },
      "source": [
        "<a href=\"https://colab.research.google.com/github/Davron030901/PyTorch/blob/main/74_Flask_Rest_API_Client.ipynb\" target=\"_parent\"><img src=\"https://colab.research.google.com/assets/colab-badge.svg\" alt=\"Open In Colab\"/></a>"
      ]
    },
    {
      "cell_type": "markdown",
      "source": [
        "\n",
        "\n",
        "# **Flask RestAPI Server**"
      ],
      "metadata": {
        "id": "QX5JwkprCCnv"
      }
    },
    {
      "cell_type": "code",
      "metadata": {
        "colab": {
          "base_uri": "https://localhost:8080/"
        },
        "id": "Ycv54XMJ5zt3",
        "outputId": "80fe53c5-da39-47fb-fd8c-8b84b74f0663"
      },
      "source": [
        "!wget https://raw.githubusercontent.com/rajeevratan84/ModernComputerVision/main/bird.jpg"
      ],
      "execution_count": null,
      "outputs": [
        {
          "output_type": "stream",
          "name": "stdout",
          "text": [
            "--2022-02-07 20:36:32--  https://raw.githubusercontent.com/rajeevratan84/ModernComputerVision/main/bird.jpg\n",
            "Resolving raw.githubusercontent.com (raw.githubusercontent.com)... 185.199.109.133, 185.199.108.133, 185.199.111.133, ...\n",
            "Connecting to raw.githubusercontent.com (raw.githubusercontent.com)|185.199.109.133|:443... connected.\n",
            "HTTP request sent, awaiting response... 200 OK\n",
            "Length: 57958 (57K) [image/jpeg]\n",
            "Saving to: ‘bird.jpg.1’\n",
            "\n",
            "\rbird.jpg.1            0%[                    ]       0  --.-KB/s               \rbird.jpg.1          100%[===================>]  56.60K  --.-KB/s    in 0.01s   \n",
            "\n",
            "2022-02-07 20:36:32 (5.09 MB/s) - ‘bird.jpg.1’ saved [57958/57958]\n",
            "\n"
          ]
        }
      ]
    },
    {
      "cell_type": "code",
      "metadata": {
        "colab": {
          "base_uri": "https://localhost:8080/"
        },
        "id": "tFXP7hfj52ZX",
        "outputId": "7fb6d227-2991-4032-ae52-3dacaa659552"
      },
      "source": [
        "import requests\n",
        "\n",
        "resp = requests.post(\"http://f6eb-34-71-59-16.ngrok.io/predict\",\n",
        "                     files={\"file\": open('bird.jpg','rb')})\n",
        "\n",
        "print(resp.json())"
      ],
      "execution_count": null,
      "outputs": [
        {
          "output_type": "stream",
          "name": "stdout",
          "text": [
            "{'class_id': 'n01820546', 'class_name': 'lorikeet'}\n"
          ]
        }
      ]
    }
  ]
}