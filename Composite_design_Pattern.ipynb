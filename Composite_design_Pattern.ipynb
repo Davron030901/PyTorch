{
  "nbformat": 4,
  "nbformat_minor": 0,
  "metadata": {
    "colab": {
      "provenance": [],
      "authorship_tag": "ABX9TyNuQ+N/cxdorrnuXK1c6ck9",
      "include_colab_link": true
    },
    "kernelspec": {
      "name": "python3",
      "display_name": "Python 3"
    },
    "language_info": {
      "name": "python"
    }
  },
  "cells": [
    {
      "cell_type": "markdown",
      "metadata": {
        "id": "view-in-github",
        "colab_type": "text"
      },
      "source": [
        "<a href=\"https://colab.research.google.com/github/Davron030901/PyTorch/blob/main/Composite_design_Pattern.ipynb\" target=\"_parent\"><img src=\"https://colab.research.google.com/assets/colab-badge.svg\" alt=\"Open In Colab\"/></a>"
      ]
    },
    {
      "cell_type": "code",
      "execution_count": null,
      "metadata": {
        "colab": {
          "base_uri": "https://localhost:8080/"
        },
        "id": "tLLfm_gaQa_p",
        "outputId": "d73ac6c8-5628-407c-c9f8-9a29b4dc763e"
      },
      "outputs": [
        {
          "output_type": "stream",
          "name": "stdout",
          "text": [
            "Composite 1 contains:\n",
            "Leaf A\n",
            "Leaf B\n",
            "Composite 2 contains:\n",
            "Leaf C\n"
          ]
        }
      ],
      "source": [
        "from abc import ABC, abstractmethod\n",
        "\n",
        "# Component: Abstract base class defining the interface\n",
        "class Component(ABC):\n",
        "    @abstractmethod\n",
        "    def operation(self) -> str:\n",
        "        pass\n",
        "\n",
        "    def add(self, component: 'Component') -> None:\n",
        "        pass\n",
        "\n",
        "    def remove(self, component: 'Component') -> None:\n",
        "        pass\n",
        "\n",
        "    def get_children(self) -> list:\n",
        "        return []\n",
        "\n",
        "# Leaf: Represents individual objects\n",
        "class Leaf(Component):\n",
        "    def __init__(self, name: str):\n",
        "        self.name = name\n",
        "\n",
        "    def operation(self) -> str:\n",
        "        return f\"Leaf {self.name}\"\n",
        "\n",
        "# Composite: Represents a group of objects\n",
        "class Composite(Component):\n",
        "    def __init__(self, name: str):\n",
        "        self.name = name\n",
        "        self._children = []\n",
        "\n",
        "    def add(self, component: Component) -> None:\n",
        "        self._children.append(component)\n",
        "\n",
        "    def remove(self, component: Component) -> None:\n",
        "        self._children.remove(component)\n",
        "\n",
        "    def get_children(self) -> list:\n",
        "        return self._children\n",
        "\n",
        "    def operation(self) -> str:\n",
        "        results = [f\"Composite {self.name} contains:\"]\n",
        "        for child in self._children:\n",
        "            results.append(child.operation())\n",
        "        return \"\\n\".join(results)\n",
        "\n",
        "\n",
        "# Create leaf nodes\n",
        "leaf1 = Leaf(\"A\")\n",
        "leaf2 = Leaf(\"B\")\n",
        "leaf3 = Leaf(\"C\")\n",
        "\n",
        "# Create composite nodes\n",
        "composite1 = Composite(\"1\")\n",
        "composite2 = Composite(\"2\")\n",
        "\n",
        "# Build the hierarchy\n",
        "composite1.add(leaf1)\n",
        "composite1.add(leaf2)\n",
        "composite2.add(leaf3)\n",
        "composite1.add(composite2)\n",
        "\n",
        "# Execute operation\n",
        "print(composite1.operation())"
      ]
    },
    {
      "cell_type": "code",
      "source": [
        "from abc import ABC, abstractmethod\n",
        "\n",
        "# Component: Abstract base class\n",
        "class Component(ABC):\n",
        "    @abstractmethod\n",
        "    def get_price(self) -> float:\n",
        "        pass\n",
        "\n",
        "    def add(self, component: 'Component') -> None:\n",
        "        pass\n",
        "\n",
        "    def remove(self, component: 'Component') -> None:\n",
        "        pass\n",
        "\n",
        "    def get_children(self) -> list:\n",
        "        return []\n",
        "\n",
        "# Leaf: Individual items\n",
        "class Leaf(Component):\n",
        "    def __init__(self, name: str, price: float):\n",
        "        self.name = name\n",
        "        self.price = price\n",
        "\n",
        "    def get_price(self) -> float:\n",
        "        return self.price\n",
        "\n",
        "    def __str__(self) -> str:\n",
        "        return f\"{self.name}: ${self.price}\"\n",
        "\n",
        "# Composite: Group of items (e.g., Amazon cart)\n",
        "class Composite(Component):\n",
        "    def __init__(self, name: str):\n",
        "        self.name = name\n",
        "        self._children = []\n",
        "\n",
        "    def add(self, component: Component) -> None:\n",
        "        self._children.append(component)\n",
        "\n",
        "    def remove(self, component: Component) -> None:\n",
        "        self._children.remove(component)\n",
        "\n",
        "    def get_children(self) -> list:\n",
        "        return self._children\n",
        "\n",
        "    def get_price(self) -> float:\n",
        "        return sum(child.get_price() for child in self._children)\n",
        "\n",
        "    def __str__(self) -> str:\n",
        "        results = [f\"{self.name} (Total: ${self.get_price()}):\"]\n",
        "        for child in self._children:\n",
        "            results.append(str(child))\n",
        "        return \"\\n\".join(results)\n",
        "\n",
        "\n",
        "# Create leaf nodes (Amazon items)\n",
        "iphone = Leaf(\"iPhone 16\", 849.00)\n",
        "book = Leaf(\"Paperback Book\", 15.00)\n",
        "pen = Leaf(\"Paper Mate Flair Pen\", 2.50)\n",
        "# Optional: If \"leaf\" meant loose-leaf paper\n",
        "loose_leaf = Leaf(\"Loose-Leaf Paper\", 7.00)\n",
        "\n",
        "# Create composite (Amazon cart)\n",
        "cart = Composite(\"Amazon Cart\")\n",
        "cart.add(iphone)\n",
        "cart.add(book)\n",
        "cart.add(pen)\n",
        "# cart.add(loose_leaf)  # Uncomment if loose-leaf paper is included\n",
        "\n",
        "# Print cart details and total price\n",
        "print(cart)\n",
        "print(f\"Total Price: ${cart.get_price()}\")"
      ],
      "metadata": {
        "colab": {
          "base_uri": "https://localhost:8080/"
        },
        "id": "1S7dQRxlQoVE",
        "outputId": "d349a447-372a-4249-f452-02e485b6dda3"
      },
      "execution_count": null,
      "outputs": [
        {
          "output_type": "stream",
          "name": "stdout",
          "text": [
            "Amazon Cart (Total: $866.5):\n",
            "iPhone 16: $849.0\n",
            "Paperback Book: $15.0\n",
            "Paper Mate Flair Pen: $2.5\n",
            "Total Price: $866.5\n"
          ]
        }
      ]
    }
  ]
}