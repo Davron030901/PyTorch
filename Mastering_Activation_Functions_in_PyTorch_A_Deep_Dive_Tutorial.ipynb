{
  "nbformat": 4,
  "nbformat_minor": 0,
  "metadata": {
    "colab": {
      "provenance": [],
      "include_colab_link": true
    },
    "kernelspec": {
      "name": "python3",
      "display_name": "Python 3"
    },
    "language_info": {
      "name": "python"
    }
  },
  "cells": [
    {
      "cell_type": "markdown",
      "metadata": {
        "id": "view-in-github",
        "colab_type": "text"
      },
      "source": [
        "<a href=\"https://colab.research.google.com/github/Davron030901/PyTorch/blob/main/Mastering_Activation_Functions_in_PyTorch_A_Deep_Dive_Tutorial.ipynb\" target=\"_parent\"><img src=\"https://colab.research.google.com/assets/colab-badge.svg\" alt=\"Open In Colab\"/></a>"
      ]
    },
    {
      "cell_type": "code",
      "execution_count": null,
      "metadata": {
        "id": "YL0xndksj_kG"
      },
      "outputs": [],
      "source": [
        "import torch\n",
        "import torch.nn as nn\n",
        "import torch.optim as optim"
      ]
    },
    {
      "cell_type": "code",
      "source": [
        "logits=torch.tensor([[1.4,2.3,0.4],[3.1,4.5,1.2],[5.3,6.1,2.3]])\n",
        "softmax_prob=torch.softmax(logits,dim=1)\n",
        "print(softmax_prob)"
      ],
      "metadata": {
        "colab": {
          "base_uri": "https://localhost:8080/"
        },
        "id": "ZDbQGTdOkjlf",
        "outputId": "11c9f2b0-38e6-4b76-af02-3aca7b7d8443"
      },
      "execution_count": null,
      "outputs": [
        {
          "output_type": "stream",
          "name": "stdout",
          "text": [
            "tensor([[0.2613, 0.6426, 0.0961],\n",
            "        [0.1921, 0.7791, 0.0287],\n",
            "        [0.3053, 0.6795, 0.0152]])\n"
          ]
        }
      ]
    },
    {
      "cell_type": "code",
      "source": [
        "class SimpleNN(nn.Module):\n",
        "  def __init__(self,input_size,hidden_size,output_size):\n",
        "    super(SimpleNN,self).__init__()\n",
        "    self.layer1=nn.Linear(input_size,hidden_size)\n",
        "    self.LeakyReLU=nn.LeakyReLU(negative_slope=0.01)\n",
        "    self.layer2=nn.Linear(hidden_size,output_size)\n",
        "\n",
        "  def forward(self,x):\n",
        "    x=self.layer1(x)\n",
        "    x=self.LeakyReLU(x)\n",
        "    x=self.layer2(x)\n",
        "    return x\n",
        "\n",
        "input_size=10\n",
        "hidden_size=20\n",
        "output_size=1\n",
        "model=SimpleNN(input_size,hidden_size,output_size)\n",
        "input_data=torch.randn(5,input_size)\n",
        "output=model(input_data)\n",
        "print(input_data)\n",
        "print(output)"
      ],
      "metadata": {
        "colab": {
          "base_uri": "https://localhost:8080/"
        },
        "id": "7v85lt-hlCqm",
        "outputId": "89f66dc2-b6fd-4a7f-ca53-2a2ebb34dc65"
      },
      "execution_count": null,
      "outputs": [
        {
          "output_type": "stream",
          "name": "stdout",
          "text": [
            "tensor([[-0.9309, -1.5090,  0.3395, -2.1397, -0.0748, -0.3832,  0.3487, -0.2779,\n",
            "         -0.6705, -0.0943],\n",
            "        [-1.8981,  0.9707,  1.0471,  1.7087,  0.1762,  0.8785, -0.0170, -0.6419,\n",
            "          0.6187, -0.2305],\n",
            "        [ 0.1195, -0.1614, -0.4748, -1.4827, -1.1109,  0.4563,  0.0700, -1.4877,\n",
            "          0.3422,  0.0237],\n",
            "        [-1.0173,  1.0003, -0.8064,  1.1714,  0.2777, -0.6595,  0.6758,  0.6004,\n",
            "          0.1873, -0.3918],\n",
            "        [-1.4082, -0.4773,  0.3499, -0.1414,  0.5037,  0.9247, -0.2078,  0.2465,\n",
            "         -2.0747, -0.8265]])\n",
            "tensor([[ 0.2263],\n",
            "        [ 0.1494],\n",
            "        [-0.2349],\n",
            "        [ 0.0996],\n",
            "        [ 0.3525]], grad_fn=<AddmmBackward0>)\n"
          ]
        }
      ]
    },
    {
      "cell_type": "code",
      "source": [
        "class SimpleNN(nn.Module):\n",
        "  def __init__(self,input_size,hidden_size,output_size):\n",
        "    super(SimpleNN,self).__init__()\n",
        "    self.layer1=nn.Linear(input_size,hidden_size)\n",
        "    self.layer2=nn.Linear(hidden_size,output_size)\n",
        "\n",
        "  def forward(self,x):\n",
        "    x_relu=torch.relu(self.layer1(x))\n",
        "    x_selu=torch.selu(self.layer2(x_relu))\n",
        "\n",
        "    return x_relu,x_selu\n",
        "\n",
        "input_size=10\n",
        "hidden_size=20\n",
        "output_size=1\n",
        "model=SimpleNN(input_size,hidden_size,output_size)\n",
        "input_data=torch.randn(5,input_size)\n",
        "output_relu,output_selu=model(input_data)\n",
        "print(input_data)\n",
        "print(output_relu)\n",
        "print(output_selu)"
      ],
      "metadata": {
        "colab": {
          "base_uri": "https://localhost:8080/"
        },
        "id": "969ZhrBfm1DN",
        "outputId": "02031315-3e6a-4414-a9b1-78092d9c4b13"
      },
      "execution_count": null,
      "outputs": [
        {
          "output_type": "stream",
          "name": "stdout",
          "text": [
            "tensor([[ 2.2015,  1.1001, -1.7296,  1.1043, -0.5864,  0.5490,  1.1821, -0.0834,\n",
            "         -1.9049, -1.0122],\n",
            "        [ 0.1710, -0.3361, -1.5771,  0.3200,  1.2071,  1.3148, -0.4396, -1.5212,\n",
            "         -0.1581, -1.0945],\n",
            "        [ 0.3468, -0.1763,  0.7764,  0.8102, -1.3870,  0.6749, -0.0646,  2.6456,\n",
            "          0.0823, -0.3917],\n",
            "        [-0.9428, -0.6505, -0.6034, -0.5406, -1.2468, -0.0877,  1.6348,  0.1252,\n",
            "          2.1810, -1.1011],\n",
            "        [ 0.3045,  0.1632,  0.6617,  1.4008, -0.3877, -1.9341, -1.0179,  0.1888,\n",
            "          0.8629,  1.0269]])\n",
            "tensor([[0.0000, 0.0000, 0.9077, 1.1480, 0.0000, 0.7637, 0.9252, 1.0827, 0.0000,\n",
            "         0.0000, 0.0000, 0.3682, 1.5818, 0.0000, 0.0000, 0.0398, 1.5983, 0.0807,\n",
            "         0.0000, 0.4339],\n",
            "        [0.0000, 0.0000, 0.0000, 0.0000, 0.0421, 0.1485, 0.7263, 0.0000, 0.0000,\n",
            "         0.4588, 0.0000, 0.0958, 0.5479, 0.0000, 0.0000, 0.0575, 0.7311, 0.0000,\n",
            "         0.0000, 0.0198],\n",
            "        [0.0000, 0.0924, 0.9607, 0.7203, 0.0000, 0.0000, 0.0000, 1.4013, 0.2498,\n",
            "         0.0000, 0.0000, 0.0000, 0.8937, 0.7990, 0.0000, 0.5720, 1.3069, 1.1234,\n",
            "         0.0000, 0.0000],\n",
            "        [0.0956, 0.8151, 0.2901, 0.4947, 0.2825, 0.8328, 0.8090, 0.0000, 0.0000,\n",
            "         0.7803, 0.0000, 0.0421, 0.3576, 0.3232, 0.5790, 0.1122, 0.5435, 0.3782,\n",
            "         0.2165, 0.0000],\n",
            "        [0.5796, 0.4556, 0.0121, 0.0000, 0.1692, 0.8651, 0.0000, 0.7622, 0.0839,\n",
            "         0.0000, 0.4017, 0.0859, 0.0000, 0.0000, 0.2490, 0.0000, 0.0000, 1.3275,\n",
            "         0.0000, 0.5805]], grad_fn=<ReluBackward0>)\n",
            "tensor([[-0.7293],\n",
            "        [-0.2336],\n",
            "        [-0.0221],\n",
            "        [-0.1459],\n",
            "        [-0.0881]], grad_fn=<EluBackward0>)\n"
          ]
        }
      ]
    }
  ]
}