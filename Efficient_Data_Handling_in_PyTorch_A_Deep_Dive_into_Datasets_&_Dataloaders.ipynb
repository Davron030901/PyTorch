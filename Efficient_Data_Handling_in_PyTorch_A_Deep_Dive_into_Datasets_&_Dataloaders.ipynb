{
  "nbformat": 4,
  "nbformat_minor": 0,
  "metadata": {
    "colab": {
      "provenance": [],
      "include_colab_link": true
    },
    "kernelspec": {
      "name": "python3",
      "display_name": "Python 3"
    },
    "language_info": {
      "name": "python"
    }
  },
  "cells": [
    {
      "cell_type": "markdown",
      "metadata": {
        "id": "view-in-github",
        "colab_type": "text"
      },
      "source": [
        "<a href=\"https://colab.research.google.com/github/Davron030901/PyTorch/blob/main/Efficient_Data_Handling_in_PyTorch_A_Deep_Dive_into_Datasets_%26_Dataloaders.ipynb\" target=\"_parent\"><img src=\"https://colab.research.google.com/assets/colab-badge.svg\" alt=\"Open In Colab\"/></a>"
      ]
    },
    {
      "cell_type": "code",
      "execution_count": null,
      "metadata": {
        "id": "tFNGxaG91ygs"
      },
      "outputs": [],
      "source": [
        "import torch\n",
        "import torch.nn as nn\n",
        "import torch.optim as optim\n",
        "from torch.utils.data import Dataset, DataLoader\n",
        "from sklearn.preprocessing import StandardScaler\n",
        "from sklearn.model_selection import train_test_split\n",
        "from sklearn.datasets import load_digits\n",
        "from sklearn.metrics import accuracy_score\n",
        "import numpy as np"
      ]
    },
    {
      "cell_type": "code",
      "source": [
        "digits = load_digits()\n",
        "X,y = digits.data, digits.target"
      ],
      "metadata": {
        "id": "EXUEKLBv2r4b"
      },
      "execution_count": null,
      "outputs": []
    },
    {
      "cell_type": "code",
      "source": [
        "X_train,X_test,y_train,y_test = train_test_split(X,y,test_size=0.2,random_state=11)"
      ],
      "metadata": {
        "id": "HZfdxwMg28qm"
      },
      "execution_count": null,
      "outputs": []
    },
    {
      "cell_type": "code",
      "source": [
        "scaler=StandardScaler()\n",
        "X_train=scaler.fit_transform(X_train)\n",
        "X_test=scaler.transform(X_test)"
      ],
      "metadata": {
        "id": "JJyMxPx53H8t"
      },
      "execution_count": null,
      "outputs": []
    },
    {
      "cell_type": "code",
      "source": [
        "class CustomDataset(Dataset):\n",
        "  def __init__(self,data,target):\n",
        "    self.data=torch.tensor(data,dtype=torch.float32)\n",
        "    self.target=torch.tensor(target,dtype=torch.long)\n",
        "\n",
        "  def __len__(self):\n",
        "    return len(self.data)\n",
        "\n",
        "  def __getitem__(self,index):\n",
        "    sample={'data':self.data[index],'target':self.target[index]}\n",
        "    return sample"
      ],
      "metadata": {
        "id": "3BZ5JHus3SkG"
      },
      "execution_count": null,
      "outputs": []
    },
    {
      "cell_type": "code",
      "source": [
        "train_dataset=CustomDataset(X_train,y_train)\n",
        "test_dataset=CustomDataset(X_test,y_test)"
      ],
      "metadata": {
        "id": "kp_qaWeN4WgI"
      },
      "execution_count": null,
      "outputs": []
    },
    {
      "cell_type": "code",
      "source": [
        "len(train_dataset),len(test_dataset)"
      ],
      "metadata": {
        "colab": {
          "base_uri": "https://localhost:8080/"
        },
        "id": "MJbtDCjH4fYE",
        "outputId": "1415abfa-9acb-44af-974f-5922e9ed7e9c"
      },
      "execution_count": null,
      "outputs": [
        {
          "output_type": "execute_result",
          "data": {
            "text/plain": [
              "(1437, 360)"
            ]
          },
          "metadata": {},
          "execution_count": 8
        }
      ]
    },
    {
      "cell_type": "code",
      "source": [
        "train_dataset[0]"
      ],
      "metadata": {
        "colab": {
          "base_uri": "https://localhost:8080/"
        },
        "id": "suh85LVg4ovU",
        "outputId": "222869ac-3e83-469d-8ced-f08f30a2ccef"
      },
      "execution_count": null,
      "outputs": [
        {
          "output_type": "execute_result",
          "data": {
            "text/plain": [
              "{'data': tensor([ 0.0000,  0.7855,  1.4473,  0.9870,  0.9711,  1.6287, -0.4107, -0.1187,\n",
              "         -0.0558,  1.5645,  0.4803, -1.2699, -0.4852,  1.3371, -0.5054, -0.1243,\n",
              "         -0.0354, -0.7298, -1.5627, -1.2109,  0.1465,  1.0232, -0.5341, -0.1049,\n",
              "         -0.0373, -0.7800, -0.3372,  1.0441,  0.9914,  1.4639,  2.3861, -0.0264,\n",
              "          0.0000,  0.1808,  1.1503,  0.4545,  0.7962, -0.8123, -0.2567,  0.0000,\n",
              "         -0.0577, -0.5369, -0.9146,  0.7433, -0.0886, -1.4491, -0.8084, -0.0940,\n",
              "         -0.0334, -0.4056, -0.9975,  1.2375, -1.3842, -1.4744, -0.7676, -0.2048,\n",
              "         -0.0264, -0.2901,  1.4802, -0.7153, -2.4151, -1.1653, -0.4980, -0.1942]),\n",
              " 'target': tensor(7)}"
            ]
          },
          "metadata": {},
          "execution_count": 9
        }
      ]
    },
    {
      "cell_type": "code",
      "source": [
        "train_data_loader=DataLoader(train_dataset,batch_size=32,shuffle=True,num_workers=3)\n",
        "test_data_loader=DataLoader(test_dataset,batch_size=32,shuffle=False,num_workers=3)"
      ],
      "metadata": {
        "colab": {
          "base_uri": "https://localhost:8080/"
        },
        "id": "4PffEbov4vq0",
        "outputId": "386839ed-0691-4069-a824-c957c0bfafe1"
      },
      "execution_count": null,
      "outputs": [
        {
          "output_type": "stream",
          "name": "stderr",
          "text": [
            "/usr/local/lib/python3.10/dist-packages/torch/utils/data/dataloader.py:617: UserWarning: This DataLoader will create 3 worker processes in total. Our suggested max number of worker in current system is 2, which is smaller than what this DataLoader is going to create. Please be aware that excessive worker creation might get DataLoader running slow or even freeze, lower the worker number to avoid potential slowness/freeze if necessary.\n",
            "  warnings.warn(\n"
          ]
        }
      ]
    },
    {
      "cell_type": "code",
      "source": [
        "class SimpleNN(nn.Module):\n",
        "  def __init__(self,input_size,hidden_size,output_size):\n",
        "    super(SimpleNN,self).__init__()\n",
        "    self.layer1=nn.Linear(input_size,hidden_size)\n",
        "    self.relu=nn.ReLU()\n",
        "    self.layer2=nn.Linear(hidden_size,output_size)\n",
        "\n",
        "  def forward(self,x):\n",
        "    x=self.layer1(x)\n",
        "    x=self.relu(x)\n",
        "    x=self.layer2(x)\n",
        "    return x"
      ],
      "metadata": {
        "id": "7PhKke9R5xus"
      },
      "execution_count": null,
      "outputs": []
    },
    {
      "cell_type": "code",
      "source": [
        "input_size=X_train.shape[1]\n",
        "hidden_size=64\n",
        "output_size=len(set(y_train))\n",
        "model=SimpleNN(input_size,hidden_size,output_size)"
      ],
      "metadata": {
        "id": "bo-TOG6K6Ypf"
      },
      "execution_count": null,
      "outputs": []
    },
    {
      "cell_type": "code",
      "source": [
        "criterion=nn.CrossEntropyLoss()\n",
        "optimizer=optim.Adam(model.parameters(),lr=0.001)"
      ],
      "metadata": {
        "id": "gGuSHJj86nfl"
      },
      "execution_count": null,
      "outputs": []
    },
    {
      "cell_type": "code",
      "source": [
        "num_epochs=10\n",
        "\n",
        "for epoch in range(num_epochs):\n",
        "  model.train()\n",
        "  running_loss=0.0\n",
        "  for batch in train_data_loader:\n",
        "    inputs=batch['data']\n",
        "    target=batch['target']\n",
        "    optimizer.zero_grad()\n",
        "    output=model(inputs)\n",
        "    loss=criterion(output,target)\n",
        "    loss.backward()\n",
        "    optimizer.step()\n",
        "    running_loss+=loss.item()\n",
        "  print(f\"Epoch {epoch+1}/{num_epochs}, Loss: {running_loss/len(train_data_loader)}\")"
      ],
      "metadata": {
        "colab": {
          "base_uri": "https://localhost:8080/"
        },
        "id": "omO9gnoG6wVJ",
        "outputId": "ea8de2b6-e573-48e1-ca63-7751a112fa4d"
      },
      "execution_count": null,
      "outputs": [
        {
          "output_type": "stream",
          "name": "stderr",
          "text": [
            "/usr/local/lib/python3.10/dist-packages/torch/utils/data/dataloader.py:617: UserWarning: This DataLoader will create 3 worker processes in total. Our suggested max number of worker in current system is 2, which is smaller than what this DataLoader is going to create. Please be aware that excessive worker creation might get DataLoader running slow or even freeze, lower the worker number to avoid potential slowness/freeze if necessary.\n",
            "  warnings.warn(\n"
          ]
        },
        {
          "output_type": "stream",
          "name": "stdout",
          "text": [
            "Epoch 1/10, Loss: 1.9330133146709867\n",
            "Epoch 2/10, Loss: 1.1397264109717475\n",
            "Epoch 3/10, Loss: 0.6043149749437968\n",
            "Epoch 4/10, Loss: 0.36656732360521954\n",
            "Epoch 5/10, Loss: 0.2588196870353487\n",
            "Epoch 6/10, Loss: 0.20078441600004832\n",
            "Epoch 7/10, Loss: 0.16165988677077822\n",
            "Epoch 8/10, Loss: 0.1335863375829326\n",
            "Epoch 9/10, Loss: 0.1138131159875128\n",
            "Epoch 10/10, Loss: 0.09779247500830227\n"
          ]
        }
      ]
    },
    {
      "cell_type": "code",
      "source": [
        "model.eval()\n",
        "all_preds = []\n",
        "all_targets = []\n",
        "\n",
        "with torch.no_grad():\n",
        "    for batch in test_data_loader:\n",
        "        inputs = batch['data']\n",
        "        target = batch['target']\n",
        "        output = model(inputs)\n",
        "\n",
        "        # Get the predicted class indices\n",
        "        _, preds = torch.max(output, dim=1)  # preds is the indices\n",
        "\n",
        "        all_preds.extend(preds.cpu().numpy())  # Convert to numpy and extend\n",
        "        all_targets.extend(target.cpu().numpy())  # Convert to numpy and extend\n"
      ],
      "metadata": {
        "id": "pf-9Q6GH7_gs"
      },
      "execution_count": null,
      "outputs": []
    },
    {
      "cell_type": "code",
      "source": [
        "accuracy=accuracy_score(all_targets,all_preds)\n",
        "print(f\"Test Accuracy: {accuracy*100:.3f}\")"
      ],
      "metadata": {
        "colab": {
          "base_uri": "https://localhost:8080/"
        },
        "id": "3h2jfnhg9fyk",
        "outputId": "44b66eba-3e27-450b-aff4-75c9d8e129c9"
      },
      "execution_count": null,
      "outputs": [
        {
          "output_type": "stream",
          "name": "stdout",
          "text": [
            "Test Accuracy: 97.222\n"
          ]
        }
      ]
    }
  ]
}