{
  "nbformat": 4,
  "nbformat_minor": 0,
  "metadata": {
    "colab": {
      "provenance": [],
      "include_colab_link": true
    },
    "kernelspec": {
      "name": "python3",
      "display_name": "Python 3"
    }
  },
  "cells": [
    {
      "cell_type": "markdown",
      "metadata": {
        "id": "view-in-github",
        "colab_type": "text"
      },
      "source": [
        "<a href=\"https://colab.research.google.com/github/Davron030901/PyTorch/blob/main/8_PyTorch_Fashion_MNSIT_Part_2_With_Regularisation_ipynb.ipynb\" target=\"_parent\"><img src=\"https://colab.research.google.com/assets/colab-badge.svg\" alt=\"Open In Colab\"/></a>"
      ]
    },
    {
      "cell_type": "markdown",
      "metadata": {
        "id": "d4JrmoO6rdCA"
      },
      "source": [
        "# **Regularisation in PyTorch - Part 2**\n",
        "### **Now we use a few Regularisation methods on our Fashion-MNIST CNN**\n",
        "\n",
        "![](https://github.com/rajeevratan84/ModernComputerVision/raw/main/CleanShot%202020-12-02%20at%204.01.54%402x.png)\n",
        "---\n",
        "\n",
        "\n",
        "\n",
        "---\n",
        "\n",
        "\n",
        "In this lesson, we first learn to create a **simple Convolutional Neural Network model** in PyTorch and train it to **classify images in the Fashion-MNIST Dataset**, now **WITH** the use of any regularisation methods.\n",
        "1. Import PyTorch libraries, define our Transformers, Load our dataset and Visualize our images.\n",
        "2. Build a Simple CNN with the following **Regularisation** methods:\n",
        "  - L2 Regularisation\n",
        "  - Data Augmentation\n",
        "  - Dropout\n",
        "  - BatchNorm\n",
        "3. Training our CNN with Regularisation\n"
      ]
    },
    {
      "cell_type": "markdown",
      "metadata": {
        "id": "Jzbo-qJUcC4O"
      },
      "source": [
        "# **1. Import PyTorch libraries, Define Transfomers and Load & Visualise Dataset**"
      ]
    },
    {
      "cell_type": "code",
      "metadata": {
        "colab": {
          "base_uri": "https://localhost:8080/"
        },
        "id": "ioFE_3VMrd5K",
        "outputId": "868a7c22-a0c9-41e1-ef42-240c38f590fb"
      },
      "source": [
        "# Import PyTorch\n",
        "import torch\n",
        "import PIL\n",
        "import numpy as np\n",
        "\n",
        "# We use torchvision to get our dataset and useful image transformations\n",
        "import torchvision\n",
        "import torchvision.transforms as transforms\n",
        "\n",
        "# Import PyTorch's optimization libary and nn\n",
        "# nn is used as the basic building block for our Network graphs\n",
        "import torch.optim as optim\n",
        "import torch.nn as nn\n",
        "\n",
        "# Are we using our GPU?\n",
        "print(\"GPU available: {}\".format(torch.cuda.is_available()))"
      ],
      "execution_count": null,
      "outputs": [
        {
          "output_type": "stream",
          "name": "stdout",
          "text": [
            "GPU available: False\n"
          ]
        }
      ]
    },
    {
      "cell_type": "code",
      "metadata": {
        "id": "9onF9LPFwkfP"
      },
      "source": [
        "device = 'cuda' #'cpu' if no GPU available"
      ],
      "execution_count": null,
      "outputs": []
    },
    {
      "cell_type": "markdown",
      "metadata": {
        "id": "hG-JTGzowyCT"
      },
      "source": [
        "# **2. Building a CNN with Regulisation**\n",
        "## **Implementing Data Augmentation**\n",
        "\n",
        "#### **Understanding What Our Transforms Do**\n",
        "\n",
        "1. Our Transforms are applied to an image or batch of images everytime it's loaded.\n",
        "2. These new images aren't saved, they're generated or 'altered' everytime a batch is loaded\n",
        "\n",
        "#### **NOTE**\n",
        "\n",
        "We don't apply the same augmentations to our Test or Validation Datasets. Therefore, we keep separate transformation functions (see below) for our Train and Validation/Test data."
      ]
    },
    {
      "cell_type": "code",
      "source": [
        "\n",
        "data_transforms = {\n",
        "    'train': transforms.Compose([\n",
        "        # Note these are executed in the order they are called here\n",
        "        transforms.RandomAffine(degrees=10, translate=(0.05, 0.05), shear=5),\n",
        "        transforms.ColorJitter(hue=.05, saturation=.05),\n",
        "        transforms.RandomHorizontalFlip(),\n",
        "        transforms.RandomRotation(15),  # Removed resample parameter resample = PIL.Image.BILINEAR\n",
        "        transforms.Grayscale(num_output_channels=1),\n",
        "        transforms.ToTensor(),\n",
        "        transforms.Normalize((0.5,), (0.5,)),\n",
        "    ]),\n",
        "    'val': transforms.Compose([\n",
        "        transforms.Grayscale(num_output_channels=1),  # Add this if your input is color\n",
        "        transforms.ToTensor(),\n",
        "        transforms.Normalize((0.5,), (0.5,))\n",
        "    ])\n",
        "}"
      ],
      "metadata": {
        "id": "awxl-vvFSrNI"
      },
      "execution_count": null,
      "outputs": []
    },
    {
      "cell_type": "code",
      "metadata": {
        "id": "AdeYXRBwwmE6"
      },
      "source": [
        "# data_transforms = {\n",
        "#     'train': transforms.Compose([\n",
        "#         # Note these are executed in the order they are called here\n",
        "#         # Some of these transforms return a color image, hence why we need to convert\n",
        "#         # the image back to grayscale\n",
        "#         transforms.RandomAffine(degrees = 10, translate = (0.05,0.05), shear = 5),\n",
        "#         transforms.ColorJitter(hue = .05, saturation = .05),\n",
        "#         transforms.RandomHorizontalFlip(),\n",
        "#         transforms.RandomRotation(15, resample = PIL.Image.BILINEAR),\n",
        "#         transforms.Grayscale(num_output_channels = 1),\n",
        "#         transforms.ToTensor(),\n",
        "#         transforms.Normalize((0.5, ), (0.5, )),\n",
        "#     ]),\n",
        "#     'val': transforms.Compose([\n",
        "#         transforms.ToTensor(),\n",
        "#         transforms.Normalize((0.5, ), (0.5, ))\n",
        "#     ])\n",
        "# }"
      ],
      "execution_count": null,
      "outputs": []
    },
    {
      "cell_type": "markdown",
      "metadata": {
        "id": "LgHVoukAe92n"
      },
      "source": [
        "### **Fetch and Create our Data Loaders**"
      ]
    },
    {
      "cell_type": "code",
      "metadata": {
        "id": "2MYNrnfErYOb"
      },
      "source": [
        "# Load our Train Data and specify what transform to use when loading\n",
        "trainset = torchvision.datasets.FashionMNIST(root='./data', train=True,\n",
        "                                        download=True, transform=data_transforms['train'])\n",
        "\n",
        "# Load our Test Data and specify what transform to use when loading\n",
        "testset = torchvision.datasets.FashionMNIST(root='./data', train=False,\n",
        "                                       download=True, transform=data_transforms['val'])\n",
        "\n",
        "# Prepare train and test loader\n",
        "trainloader = torch.utils.data.DataLoader(trainset, batch_size=32,\n",
        "                                          shuffle=True, num_workers=2)\n",
        "\n",
        "testloader = torch.utils.data.DataLoader(testset, batch_size=32,\n",
        "                                         shuffle=False, num_workers=2)"
      ],
      "execution_count": null,
      "outputs": []
    },
    {
      "cell_type": "markdown",
      "metadata": {
        "id": "C1-eX3igw9pU"
      },
      "source": [
        "### **Adding Dropout**\n",
        "\n",
        "In Convolutional Neural Networks Dropout is commonly added after CONV-RELU Layers.\n",
        "\n",
        "E.g. CONV->RELU->**DROPOUT**\n",
        "\n",
        "#### **Dropout Recommendations**\n",
        "\n",
        "In CNN's values of 0.1 to 0.3 have been found to work well.\n",
        "\n",
        "### **Adding BatchNorm**\n",
        "\n",
        "In CNNs **BatchNorm** is best used between the Conv Layer and the activation function layer (ReLU)\n",
        "When used with Dropout, the recommended order is:\n",
        "\n",
        "CONV_1 -> **BatchNorm** -> ReLU -> Dropout - CONV_2\n",
        "\n",
        "**NOTE** BatchNorm's input arguement is the **output** size of the previous layer."
      ]
    },
    {
      "cell_type": "code",
      "source": [
        "def get_device():\n",
        "    if torch.cuda.is_available():\n",
        "        try:\n",
        "            # Additional check for CUDA device\n",
        "            torch.cuda.current_device()\n",
        "            print(f\"CUDA is available. Using GPU: {torch.cuda.get_device_name(0)}\")\n",
        "            return torch.device('cuda')\n",
        "        except RuntimeError:\n",
        "            print(\"CUDA is reported available, but device initialization failed. Falling back to CPU.\")\n",
        "            return torch.device('cpu')\n",
        "    else:\n",
        "        print(\"CUDA is not available. Using CPU.\")\n",
        "        return torch.device('cpu')\n",
        "\n",
        "# Select device\n",
        "device = get_device()"
      ],
      "metadata": {
        "colab": {
          "base_uri": "https://localhost:8080/"
        },
        "id": "ivJGfeFpTWOo",
        "outputId": "c012ecad-21b2-4b46-8288-976ab1c8d94b"
      },
      "execution_count": null,
      "outputs": [
        {
          "output_type": "stream",
          "name": "stdout",
          "text": [
            "CUDA is not available. Using CPU.\n"
          ]
        }
      ]
    },
    {
      "cell_type": "code",
      "metadata": {
        "id": "eoMxlgjbw01i",
        "colab": {
          "base_uri": "https://localhost:8080/"
        },
        "outputId": "af94cc11-19ff-491e-e841-747e503ce256"
      },
      "source": [
        "import torch.nn as nn\n",
        "import torch.nn.functional as F\n",
        "\n",
        "class Net(nn.Module):\n",
        "    def __init__(self):\n",
        "        super(Net, self).__init__()\n",
        "        self.conv1 = nn.Conv2d(1, 32, 3)\n",
        "        # Adding BatchNorm, using 32 as the input since 32 was the output of our first Conv layer\n",
        "        self.conv1_bn = nn.BatchNorm2d(32)\n",
        "        self.conv2 = nn.Conv2d(32, 64, 3)\n",
        "        # Adding BatchNorm, using 64 as the input since 64 was the output of our first Conv layer\n",
        "        self.conv2_bn = nn.BatchNorm2d(64)\n",
        "        self.pool = nn.MaxPool2d(2, 2)\n",
        "        self.fc1 = nn.Linear(64 * 12 * 12, 128)\n",
        "        self.fc2 = nn.Linear(128, 10)\n",
        "        # Defining our dropout function with a rate of 0.2\n",
        "        # We can apply this after any layer, but it's best suited after ReLU\n",
        "        self.dropOut = nn.Dropout(0.2)\n",
        "\n",
        "    def forward(self, x):\n",
        "        x = F.relu(self.conv1_bn(self.conv1(x)))\n",
        "        x = self.dropOut(x)\n",
        "        x = self.dropOut(F.relu(self.conv2_bn(self.conv2(x))))\n",
        "\n",
        "        x = self.pool(x)\n",
        "        x = x.view(-1, 64 * 12 * 12)\n",
        "        x = F.relu(self.fc1(x))\n",
        "        x = self.fc2(x)\n",
        "        return x\n",
        "\n",
        "\n",
        "net = Net()\n",
        "net.to(device)"
      ],
      "execution_count": null,
      "outputs": [
        {
          "output_type": "execute_result",
          "data": {
            "text/plain": [
              "Net(\n",
              "  (conv1): Conv2d(1, 32, kernel_size=(3, 3), stride=(1, 1))\n",
              "  (conv1_bn): BatchNorm2d(32, eps=1e-05, momentum=0.1, affine=True, track_running_stats=True)\n",
              "  (conv2): Conv2d(32, 64, kernel_size=(3, 3), stride=(1, 1))\n",
              "  (conv2_bn): BatchNorm2d(64, eps=1e-05, momentum=0.1, affine=True, track_running_stats=True)\n",
              "  (pool): MaxPool2d(kernel_size=2, stride=2, padding=0, dilation=1, ceil_mode=False)\n",
              "  (fc1): Linear(in_features=9216, out_features=128, bias=True)\n",
              "  (fc2): Linear(in_features=128, out_features=10, bias=True)\n",
              "  (dropOut): Dropout(p=0.2, inplace=False)\n",
              ")"
            ]
          },
          "metadata": {},
          "execution_count": 8
        }
      ]
    },
    {
      "cell_type": "markdown",
      "metadata": {
        "id": "U8HJL-zufHLy"
      },
      "source": [
        "### **Adding L2 Regularisation**\n",
        "\n",
        "\n",
        "L2 regularisation on the parameters/weights of the model is directly included in most optimizers, including optim.SGD.\n",
        "\n",
        "It can be controlled with the **weight_decay** parameter as can be seen in the [SGD documentation](http://pytorch.org/docs/optim.html#torch.optim.SGD).\n",
        "\n",
        "```weight_decay``` (**float**, optional) – weight decay *(L2 penalty) (default: 0)*\n",
        "\n",
        "**Good L2 Values range from 0.1 to 0.0001**\n",
        "\n",
        "**NOTE:**\n",
        "\n",
        " L1 regularization is not included by default in the optimizers, but could be added by including an extra loss nn.L1Loss in the weights of the model.\n",
        "\n"
      ]
    },
    {
      "cell_type": "code",
      "metadata": {
        "id": "qwPu7Lypw_lz"
      },
      "source": [
        "# We import our optimizer function\n",
        "import torch.optim as optim\n",
        "\n",
        "# We use Cross Entropy Loss as our loss function\n",
        "criterion = nn.CrossEntropyLoss()\n",
        "\n",
        "# For our gradient descent algorthim or Optimizer\n",
        "# We use Stochastic Gradient Descent (SGD) with a learning rate of 0.001\n",
        "# We set the momentum to be 0.9\n",
        "optimizer = optim.SGD(net.parameters(), lr=0.001, momentum=0.9, weight_decay = 0.001)"
      ],
      "execution_count": null,
      "outputs": []
    },
    {
      "cell_type": "markdown",
      "metadata": {
        "id": "Ov3NJd9dzlFo"
      },
      "source": [
        "# **3. Training Our Model Using Regulisation Methods - Data Augmentation, Dropout, BatchNorm & L2 Regularisation**"
      ]
    },
    {
      "cell_type": "code",
      "metadata": {
        "id": "WmhtkEpMxCJs",
        "colab": {
          "base_uri": "https://localhost:8080/"
        },
        "outputId": "f836b0dc-de73-485d-cebb-72efaadf0e29"
      },
      "source": [
        "# We loop over the traing dataset multiple times (each time is called an epoch)\n",
        "epochs = 15\n",
        "\n",
        "# Create some empty arrays to store logs\n",
        "epoch_log = []\n",
        "loss_log = []\n",
        "accuracy_log = []\n",
        "\n",
        "# Iterate for a specified number of epochs\n",
        "for epoch in range(epochs):\n",
        "    print(f'Starting Epoch: {epoch+1}...')\n",
        "\n",
        "    # We keep adding or accumulating our loss after each mini-batch in running_loss\n",
        "    running_loss = 0.0\n",
        "\n",
        "    # We iterate through our trainloader iterator\n",
        "    # Each cycle is a minibatch\n",
        "    for i, data in enumerate(trainloader, 0):\n",
        "        # get the inputs; data is a list of [inputs, labels]\n",
        "        inputs, labels = data\n",
        "\n",
        "        # Move our data to GPU\n",
        "        inputs = inputs.to(device)\n",
        "        labels = labels.to(device)\n",
        "\n",
        "        # Clear the gradients before training by setting to zero\n",
        "        # Required for a fresh start\n",
        "        optimizer.zero_grad()\n",
        "\n",
        "        # Forward -> backprop + optimize\n",
        "        outputs = net(inputs) # Forward Propagation\n",
        "        loss = criterion(outputs, labels) # Get Loss (quantify the difference between the results and predictions)\n",
        "        loss.backward() # Back propagate to obtain the new gradients for all nodes\n",
        "        optimizer.step() # Update the gradients/weights\n",
        "\n",
        "        # Print Training statistics - Epoch/Iterations/Loss/Accurachy\n",
        "        running_loss += loss.item()\n",
        "        if i % 100 == 99:    # show our loss every 50 mini-batches\n",
        "            correct = 0 # Initialize our variable to hold the count for the correct predictions\n",
        "            total = 0 # Initialize our variable to hold the count of the number of labels iterated\n",
        "\n",
        "            # We don't need gradients for validation, so wrap in\n",
        "            # no_grad to save memory\n",
        "            with torch.no_grad():\n",
        "                # Iterate through the testloader iterator\n",
        "                for data in testloader:\n",
        "                    images, labels = data\n",
        "                    # Move our data to GPU\n",
        "                    images = images.to(device)\n",
        "                    labels = labels.to(device)\n",
        "\n",
        "                    # Foward propagate our test data batch through our model\n",
        "                    outputs = net(images)\n",
        "\n",
        "                     # Get predictions from the maximum value\n",
        "                    _, predicted = torch.max(outputs.data, 1)\n",
        "                    # Keep adding the label size or length to the total variable\n",
        "                    total += labels.size(0)\n",
        "                    # Keep a running total of the number of predictions predicted correctly\n",
        "                    correct += (predicted == labels).sum().item()\n",
        "\n",
        "                accuracy = 100 * correct / total\n",
        "                epoch_num = epoch + 1\n",
        "                actual_loss = running_loss / 50\n",
        "                print(f'Epoch: {epoch_num}, Mini-Batches Completed: {(i+1)}, Loss: {actual_loss:.3f}, Test Accuracy = {accuracy:.3f}%')\n",
        "                running_loss = 0.0\n",
        "\n",
        "    # Store training stats after each epoch\n",
        "    epoch_log.append(epoch_num)\n",
        "    loss_log.append(actual_loss)\n",
        "    accuracy_log.append(accuracy)\n",
        "\n",
        "print('Finished Training')"
      ],
      "execution_count": null,
      "outputs": [
        {
          "output_type": "stream",
          "name": "stdout",
          "text": [
            "Starting Epoch: 1...\n",
            "Epoch: 1, Mini-Batches Completed: 100, Loss: 2.432, Test Accuracy = 70.540%\n",
            "Epoch: 1, Mini-Batches Completed: 200, Loss: 1.573, Test Accuracy = 75.160%\n",
            "Epoch: 1, Mini-Batches Completed: 300, Loss: 1.516, Test Accuracy = 77.030%\n",
            "Epoch: 1, Mini-Batches Completed: 400, Loss: 1.394, Test Accuracy = 76.930%\n",
            "Epoch: 1, Mini-Batches Completed: 500, Loss: 1.337, Test Accuracy = 78.310%\n",
            "Epoch: 1, Mini-Batches Completed: 600, Loss: 1.328, Test Accuracy = 75.670%\n",
            "Epoch: 1, Mini-Batches Completed: 700, Loss: 1.233, Test Accuracy = 79.870%\n",
            "Epoch: 1, Mini-Batches Completed: 800, Loss: 1.249, Test Accuracy = 79.380%\n",
            "Epoch: 1, Mini-Batches Completed: 900, Loss: 1.231, Test Accuracy = 78.950%\n",
            "Epoch: 1, Mini-Batches Completed: 1000, Loss: 1.184, Test Accuracy = 80.370%\n",
            "Epoch: 1, Mini-Batches Completed: 1100, Loss: 1.170, Test Accuracy = 80.940%\n",
            "Epoch: 1, Mini-Batches Completed: 1200, Loss: 1.171, Test Accuracy = 78.340%\n",
            "Epoch: 1, Mini-Batches Completed: 1300, Loss: 1.127, Test Accuracy = 81.930%\n",
            "Epoch: 1, Mini-Batches Completed: 1400, Loss: 1.074, Test Accuracy = 82.180%\n",
            "Epoch: 1, Mini-Batches Completed: 1500, Loss: 1.123, Test Accuracy = 82.560%\n",
            "Epoch: 1, Mini-Batches Completed: 1600, Loss: 1.095, Test Accuracy = 82.100%\n",
            "Epoch: 1, Mini-Batches Completed: 1700, Loss: 1.142, Test Accuracy = 82.210%\n",
            "Epoch: 1, Mini-Batches Completed: 1800, Loss: 1.022, Test Accuracy = 82.370%\n",
            "Starting Epoch: 2...\n",
            "Epoch: 2, Mini-Batches Completed: 100, Loss: 1.023, Test Accuracy = 83.050%\n",
            "Epoch: 2, Mini-Batches Completed: 200, Loss: 1.050, Test Accuracy = 83.770%\n",
            "Epoch: 2, Mini-Batches Completed: 300, Loss: 1.048, Test Accuracy = 84.190%\n",
            "Epoch: 2, Mini-Batches Completed: 400, Loss: 1.010, Test Accuracy = 83.360%\n",
            "Epoch: 2, Mini-Batches Completed: 500, Loss: 1.023, Test Accuracy = 81.820%\n",
            "Epoch: 2, Mini-Batches Completed: 600, Loss: 1.049, Test Accuracy = 83.710%\n",
            "Epoch: 2, Mini-Batches Completed: 700, Loss: 1.037, Test Accuracy = 84.540%\n",
            "Epoch: 2, Mini-Batches Completed: 800, Loss: 1.021, Test Accuracy = 84.330%\n",
            "Epoch: 2, Mini-Batches Completed: 900, Loss: 0.999, Test Accuracy = 84.140%\n",
            "Epoch: 2, Mini-Batches Completed: 1000, Loss: 0.987, Test Accuracy = 84.240%\n",
            "Epoch: 2, Mini-Batches Completed: 1100, Loss: 0.918, Test Accuracy = 84.020%\n",
            "Epoch: 2, Mini-Batches Completed: 1200, Loss: 0.959, Test Accuracy = 84.940%\n",
            "Epoch: 2, Mini-Batches Completed: 1300, Loss: 0.945, Test Accuracy = 84.600%\n",
            "Epoch: 2, Mini-Batches Completed: 1400, Loss: 1.013, Test Accuracy = 84.470%\n",
            "Epoch: 2, Mini-Batches Completed: 1500, Loss: 0.942, Test Accuracy = 84.620%\n",
            "Epoch: 2, Mini-Batches Completed: 1600, Loss: 0.972, Test Accuracy = 84.570%\n",
            "Epoch: 2, Mini-Batches Completed: 1700, Loss: 0.948, Test Accuracy = 85.160%\n",
            "Epoch: 2, Mini-Batches Completed: 1800, Loss: 0.944, Test Accuracy = 84.640%\n",
            "Starting Epoch: 3...\n",
            "Epoch: 3, Mini-Batches Completed: 100, Loss: 0.856, Test Accuracy = 83.710%\n",
            "Epoch: 3, Mini-Batches Completed: 200, Loss: 0.978, Test Accuracy = 83.900%\n",
            "Epoch: 3, Mini-Batches Completed: 300, Loss: 0.921, Test Accuracy = 84.960%\n",
            "Epoch: 3, Mini-Batches Completed: 400, Loss: 0.916, Test Accuracy = 85.820%\n",
            "Epoch: 3, Mini-Batches Completed: 500, Loss: 0.911, Test Accuracy = 85.180%\n",
            "Epoch: 3, Mini-Batches Completed: 600, Loss: 0.901, Test Accuracy = 85.830%\n",
            "Epoch: 3, Mini-Batches Completed: 700, Loss: 0.877, Test Accuracy = 85.380%\n",
            "Epoch: 3, Mini-Batches Completed: 800, Loss: 0.862, Test Accuracy = 84.570%\n",
            "Epoch: 3, Mini-Batches Completed: 900, Loss: 0.879, Test Accuracy = 85.880%\n",
            "Epoch: 3, Mini-Batches Completed: 1000, Loss: 0.927, Test Accuracy = 85.680%\n",
            "Epoch: 3, Mini-Batches Completed: 1100, Loss: 0.904, Test Accuracy = 85.910%\n",
            "Epoch: 3, Mini-Batches Completed: 1200, Loss: 0.874, Test Accuracy = 86.280%\n",
            "Epoch: 3, Mini-Batches Completed: 1300, Loss: 0.851, Test Accuracy = 86.100%\n",
            "Epoch: 3, Mini-Batches Completed: 1400, Loss: 0.905, Test Accuracy = 85.860%\n",
            "Epoch: 3, Mini-Batches Completed: 1500, Loss: 0.824, Test Accuracy = 85.810%\n",
            "Epoch: 3, Mini-Batches Completed: 1600, Loss: 0.902, Test Accuracy = 85.390%\n",
            "Epoch: 3, Mini-Batches Completed: 1700, Loss: 0.835, Test Accuracy = 86.470%\n",
            "Epoch: 3, Mini-Batches Completed: 1800, Loss: 0.862, Test Accuracy = 86.340%\n",
            "Starting Epoch: 4...\n",
            "Epoch: 4, Mini-Batches Completed: 100, Loss: 0.842, Test Accuracy = 86.370%\n",
            "Epoch: 4, Mini-Batches Completed: 200, Loss: 0.873, Test Accuracy = 87.080%\n",
            "Epoch: 4, Mini-Batches Completed: 300, Loss: 0.843, Test Accuracy = 86.210%\n",
            "Epoch: 4, Mini-Batches Completed: 400, Loss: 0.853, Test Accuracy = 85.480%\n",
            "Epoch: 4, Mini-Batches Completed: 500, Loss: 0.872, Test Accuracy = 85.000%\n",
            "Epoch: 4, Mini-Batches Completed: 600, Loss: 0.869, Test Accuracy = 86.720%\n",
            "Epoch: 4, Mini-Batches Completed: 700, Loss: 0.860, Test Accuracy = 86.670%\n",
            "Epoch: 4, Mini-Batches Completed: 800, Loss: 0.843, Test Accuracy = 85.230%\n",
            "Epoch: 4, Mini-Batches Completed: 900, Loss: 0.824, Test Accuracy = 86.390%\n",
            "Epoch: 4, Mini-Batches Completed: 1000, Loss: 0.822, Test Accuracy = 85.440%\n",
            "Epoch: 4, Mini-Batches Completed: 1100, Loss: 0.869, Test Accuracy = 86.050%\n",
            "Epoch: 4, Mini-Batches Completed: 1200, Loss: 0.839, Test Accuracy = 86.430%\n",
            "Epoch: 4, Mini-Batches Completed: 1300, Loss: 0.785, Test Accuracy = 86.410%\n",
            "Epoch: 4, Mini-Batches Completed: 1400, Loss: 0.846, Test Accuracy = 86.870%\n",
            "Epoch: 4, Mini-Batches Completed: 1500, Loss: 0.799, Test Accuracy = 84.210%\n",
            "Epoch: 4, Mini-Batches Completed: 1600, Loss: 0.826, Test Accuracy = 86.460%\n",
            "Epoch: 4, Mini-Batches Completed: 1700, Loss: 0.829, Test Accuracy = 86.890%\n",
            "Epoch: 4, Mini-Batches Completed: 1800, Loss: 0.782, Test Accuracy = 86.900%\n",
            "Starting Epoch: 5...\n",
            "Epoch: 5, Mini-Batches Completed: 100, Loss: 0.812, Test Accuracy = 86.880%\n",
            "Epoch: 5, Mini-Batches Completed: 200, Loss: 0.768, Test Accuracy = 86.720%\n",
            "Epoch: 5, Mini-Batches Completed: 300, Loss: 0.836, Test Accuracy = 87.530%\n",
            "Epoch: 5, Mini-Batches Completed: 400, Loss: 0.794, Test Accuracy = 86.420%\n",
            "Epoch: 5, Mini-Batches Completed: 500, Loss: 0.785, Test Accuracy = 86.720%\n",
            "Epoch: 5, Mini-Batches Completed: 600, Loss: 0.823, Test Accuracy = 87.480%\n",
            "Epoch: 5, Mini-Batches Completed: 700, Loss: 0.841, Test Accuracy = 87.000%\n",
            "Epoch: 5, Mini-Batches Completed: 800, Loss: 0.797, Test Accuracy = 87.090%\n",
            "Epoch: 5, Mini-Batches Completed: 900, Loss: 0.802, Test Accuracy = 87.110%\n",
            "Epoch: 5, Mini-Batches Completed: 1000, Loss: 0.752, Test Accuracy = 86.400%\n",
            "Epoch: 5, Mini-Batches Completed: 1100, Loss: 0.742, Test Accuracy = 87.350%\n",
            "Epoch: 5, Mini-Batches Completed: 1200, Loss: 0.814, Test Accuracy = 87.380%\n",
            "Epoch: 5, Mini-Batches Completed: 1300, Loss: 0.822, Test Accuracy = 87.180%\n",
            "Epoch: 5, Mini-Batches Completed: 1400, Loss: 0.791, Test Accuracy = 87.730%\n",
            "Epoch: 5, Mini-Batches Completed: 1500, Loss: 0.796, Test Accuracy = 87.560%\n",
            "Epoch: 5, Mini-Batches Completed: 1600, Loss: 0.790, Test Accuracy = 87.380%\n",
            "Epoch: 5, Mini-Batches Completed: 1700, Loss: 0.757, Test Accuracy = 87.450%\n",
            "Epoch: 5, Mini-Batches Completed: 1800, Loss: 0.810, Test Accuracy = 87.270%\n",
            "Starting Epoch: 6...\n",
            "Epoch: 6, Mini-Batches Completed: 100, Loss: 0.762, Test Accuracy = 87.180%\n",
            "Epoch: 6, Mini-Batches Completed: 200, Loss: 0.746, Test Accuracy = 87.640%\n",
            "Epoch: 6, Mini-Batches Completed: 300, Loss: 0.732, Test Accuracy = 87.440%\n",
            "Epoch: 6, Mini-Batches Completed: 400, Loss: 0.785, Test Accuracy = 87.110%\n",
            "Epoch: 6, Mini-Batches Completed: 500, Loss: 0.737, Test Accuracy = 87.990%\n",
            "Epoch: 6, Mini-Batches Completed: 600, Loss: 0.760, Test Accuracy = 86.920%\n",
            "Epoch: 6, Mini-Batches Completed: 700, Loss: 0.760, Test Accuracy = 87.860%\n",
            "Epoch: 6, Mini-Batches Completed: 800, Loss: 0.797, Test Accuracy = 87.270%\n",
            "Epoch: 6, Mini-Batches Completed: 900, Loss: 0.775, Test Accuracy = 87.120%\n",
            "Epoch: 6, Mini-Batches Completed: 1000, Loss: 0.821, Test Accuracy = 87.000%\n",
            "Epoch: 6, Mini-Batches Completed: 1100, Loss: 0.772, Test Accuracy = 86.630%\n",
            "Epoch: 6, Mini-Batches Completed: 1200, Loss: 0.792, Test Accuracy = 87.430%\n",
            "Epoch: 6, Mini-Batches Completed: 1300, Loss: 0.808, Test Accuracy = 87.430%\n",
            "Epoch: 6, Mini-Batches Completed: 1400, Loss: 0.791, Test Accuracy = 88.140%\n",
            "Epoch: 6, Mini-Batches Completed: 1500, Loss: 0.675, Test Accuracy = 86.610%\n",
            "Epoch: 6, Mini-Batches Completed: 1600, Loss: 0.741, Test Accuracy = 87.580%\n",
            "Epoch: 6, Mini-Batches Completed: 1700, Loss: 0.787, Test Accuracy = 87.620%\n",
            "Epoch: 6, Mini-Batches Completed: 1800, Loss: 0.747, Test Accuracy = 87.630%\n",
            "Starting Epoch: 7...\n",
            "Epoch: 7, Mini-Batches Completed: 100, Loss: 0.747, Test Accuracy = 87.080%\n",
            "Epoch: 7, Mini-Batches Completed: 200, Loss: 0.729, Test Accuracy = 87.920%\n",
            "Epoch: 7, Mini-Batches Completed: 300, Loss: 0.746, Test Accuracy = 86.990%\n",
            "Epoch: 7, Mini-Batches Completed: 400, Loss: 0.731, Test Accuracy = 86.710%\n",
            "Epoch: 7, Mini-Batches Completed: 500, Loss: 0.694, Test Accuracy = 87.740%\n",
            "Epoch: 7, Mini-Batches Completed: 600, Loss: 0.719, Test Accuracy = 87.560%\n",
            "Epoch: 7, Mini-Batches Completed: 700, Loss: 0.729, Test Accuracy = 88.220%\n",
            "Epoch: 7, Mini-Batches Completed: 800, Loss: 0.723, Test Accuracy = 87.780%\n",
            "Epoch: 7, Mini-Batches Completed: 900, Loss: 0.761, Test Accuracy = 88.330%\n",
            "Epoch: 7, Mini-Batches Completed: 1000, Loss: 0.743, Test Accuracy = 87.860%\n",
            "Epoch: 7, Mini-Batches Completed: 1100, Loss: 0.740, Test Accuracy = 87.700%\n",
            "Epoch: 7, Mini-Batches Completed: 1200, Loss: 0.729, Test Accuracy = 87.440%\n",
            "Epoch: 7, Mini-Batches Completed: 1300, Loss: 0.738, Test Accuracy = 88.660%\n",
            "Epoch: 7, Mini-Batches Completed: 1400, Loss: 0.756, Test Accuracy = 86.230%\n",
            "Epoch: 7, Mini-Batches Completed: 1500, Loss: 0.718, Test Accuracy = 87.790%\n",
            "Epoch: 7, Mini-Batches Completed: 1600, Loss: 0.765, Test Accuracy = 88.070%\n",
            "Epoch: 7, Mini-Batches Completed: 1700, Loss: 0.729, Test Accuracy = 87.790%\n",
            "Epoch: 7, Mini-Batches Completed: 1800, Loss: 0.770, Test Accuracy = 88.060%\n",
            "Starting Epoch: 8...\n",
            "Epoch: 8, Mini-Batches Completed: 100, Loss: 0.753, Test Accuracy = 88.050%\n",
            "Epoch: 8, Mini-Batches Completed: 200, Loss: 0.682, Test Accuracy = 87.890%\n",
            "Epoch: 8, Mini-Batches Completed: 300, Loss: 0.735, Test Accuracy = 87.790%\n",
            "Epoch: 8, Mini-Batches Completed: 400, Loss: 0.736, Test Accuracy = 87.350%\n",
            "Epoch: 8, Mini-Batches Completed: 500, Loss: 0.742, Test Accuracy = 88.290%\n",
            "Epoch: 8, Mini-Batches Completed: 600, Loss: 0.729, Test Accuracy = 88.540%\n",
            "Epoch: 8, Mini-Batches Completed: 700, Loss: 0.726, Test Accuracy = 88.250%\n",
            "Epoch: 8, Mini-Batches Completed: 800, Loss: 0.686, Test Accuracy = 88.030%\n",
            "Epoch: 8, Mini-Batches Completed: 900, Loss: 0.700, Test Accuracy = 87.360%\n",
            "Epoch: 8, Mini-Batches Completed: 1000, Loss: 0.684, Test Accuracy = 87.770%\n",
            "Epoch: 8, Mini-Batches Completed: 1100, Loss: 0.688, Test Accuracy = 88.630%\n",
            "Epoch: 8, Mini-Batches Completed: 1200, Loss: 0.694, Test Accuracy = 87.280%\n",
            "Epoch: 8, Mini-Batches Completed: 1300, Loss: 0.779, Test Accuracy = 88.510%\n",
            "Epoch: 8, Mini-Batches Completed: 1400, Loss: 0.759, Test Accuracy = 88.100%\n",
            "Epoch: 8, Mini-Batches Completed: 1500, Loss: 0.696, Test Accuracy = 88.450%\n",
            "Epoch: 8, Mini-Batches Completed: 1600, Loss: 0.667, Test Accuracy = 88.110%\n",
            "Epoch: 8, Mini-Batches Completed: 1700, Loss: 0.734, Test Accuracy = 88.460%\n",
            "Epoch: 8, Mini-Batches Completed: 1800, Loss: 0.694, Test Accuracy = 86.890%\n",
            "Starting Epoch: 9...\n",
            "Epoch: 9, Mini-Batches Completed: 100, Loss: 0.757, Test Accuracy = 88.340%\n",
            "Epoch: 9, Mini-Batches Completed: 200, Loss: 0.662, Test Accuracy = 88.480%\n",
            "Epoch: 9, Mini-Batches Completed: 300, Loss: 0.750, Test Accuracy = 88.520%\n",
            "Epoch: 9, Mini-Batches Completed: 400, Loss: 0.759, Test Accuracy = 88.240%\n",
            "Epoch: 9, Mini-Batches Completed: 500, Loss: 0.715, Test Accuracy = 87.160%\n",
            "Epoch: 9, Mini-Batches Completed: 600, Loss: 0.676, Test Accuracy = 88.320%\n",
            "Epoch: 9, Mini-Batches Completed: 700, Loss: 0.698, Test Accuracy = 88.010%\n",
            "Epoch: 9, Mini-Batches Completed: 800, Loss: 0.718, Test Accuracy = 87.920%\n",
            "Epoch: 9, Mini-Batches Completed: 900, Loss: 0.713, Test Accuracy = 88.400%\n",
            "Epoch: 9, Mini-Batches Completed: 1000, Loss: 0.707, Test Accuracy = 88.630%\n",
            "Epoch: 9, Mini-Batches Completed: 1100, Loss: 0.704, Test Accuracy = 88.220%\n",
            "Epoch: 9, Mini-Batches Completed: 1200, Loss: 0.715, Test Accuracy = 86.840%\n",
            "Epoch: 9, Mini-Batches Completed: 1300, Loss: 0.727, Test Accuracy = 88.100%\n",
            "Epoch: 9, Mini-Batches Completed: 1400, Loss: 0.705, Test Accuracy = 88.260%\n",
            "Epoch: 9, Mini-Batches Completed: 1500, Loss: 0.711, Test Accuracy = 88.430%\n",
            "Epoch: 9, Mini-Batches Completed: 1600, Loss: 0.711, Test Accuracy = 88.530%\n",
            "Epoch: 9, Mini-Batches Completed: 1700, Loss: 0.654, Test Accuracy = 88.330%\n",
            "Epoch: 9, Mini-Batches Completed: 1800, Loss: 0.683, Test Accuracy = 88.700%\n",
            "Starting Epoch: 10...\n",
            "Epoch: 10, Mini-Batches Completed: 100, Loss: 0.747, Test Accuracy = 88.530%\n",
            "Epoch: 10, Mini-Batches Completed: 200, Loss: 0.634, Test Accuracy = 88.030%\n",
            "Epoch: 10, Mini-Batches Completed: 300, Loss: 0.687, Test Accuracy = 87.770%\n",
            "Epoch: 10, Mini-Batches Completed: 400, Loss: 0.657, Test Accuracy = 88.100%\n",
            "Epoch: 10, Mini-Batches Completed: 500, Loss: 0.751, Test Accuracy = 88.870%\n",
            "Epoch: 10, Mini-Batches Completed: 600, Loss: 0.725, Test Accuracy = 88.270%\n",
            "Epoch: 10, Mini-Batches Completed: 700, Loss: 0.656, Test Accuracy = 89.100%\n",
            "Epoch: 10, Mini-Batches Completed: 800, Loss: 0.662, Test Accuracy = 88.200%\n",
            "Epoch: 10, Mini-Batches Completed: 900, Loss: 0.679, Test Accuracy = 87.900%\n",
            "Epoch: 10, Mini-Batches Completed: 1000, Loss: 0.697, Test Accuracy = 88.890%\n",
            "Epoch: 10, Mini-Batches Completed: 1100, Loss: 0.691, Test Accuracy = 88.220%\n",
            "Epoch: 10, Mini-Batches Completed: 1200, Loss: 0.692, Test Accuracy = 88.820%\n",
            "Epoch: 10, Mini-Batches Completed: 1300, Loss: 0.726, Test Accuracy = 88.630%\n",
            "Epoch: 10, Mini-Batches Completed: 1400, Loss: 0.691, Test Accuracy = 87.910%\n",
            "Epoch: 10, Mini-Batches Completed: 1500, Loss: 0.714, Test Accuracy = 88.470%\n",
            "Epoch: 10, Mini-Batches Completed: 1600, Loss: 0.701, Test Accuracy = 89.190%\n",
            "Epoch: 10, Mini-Batches Completed: 1700, Loss: 0.721, Test Accuracy = 88.270%\n",
            "Epoch: 10, Mini-Batches Completed: 1800, Loss: 0.683, Test Accuracy = 87.910%\n",
            "Starting Epoch: 11...\n",
            "Epoch: 11, Mini-Batches Completed: 100, Loss: 0.711, Test Accuracy = 88.720%\n",
            "Epoch: 11, Mini-Batches Completed: 200, Loss: 0.649, Test Accuracy = 89.380%\n",
            "Epoch: 11, Mini-Batches Completed: 300, Loss: 0.679, Test Accuracy = 88.910%\n",
            "Epoch: 11, Mini-Batches Completed: 400, Loss: 0.702, Test Accuracy = 88.740%\n",
            "Epoch: 11, Mini-Batches Completed: 500, Loss: 0.696, Test Accuracy = 88.200%\n",
            "Epoch: 11, Mini-Batches Completed: 600, Loss: 0.664, Test Accuracy = 88.670%\n",
            "Epoch: 11, Mini-Batches Completed: 700, Loss: 0.696, Test Accuracy = 88.440%\n",
            "Epoch: 11, Mini-Batches Completed: 800, Loss: 0.634, Test Accuracy = 88.910%\n",
            "Epoch: 11, Mini-Batches Completed: 900, Loss: 0.653, Test Accuracy = 88.700%\n",
            "Epoch: 11, Mini-Batches Completed: 1000, Loss: 0.663, Test Accuracy = 88.670%\n",
            "Epoch: 11, Mini-Batches Completed: 1100, Loss: 0.660, Test Accuracy = 88.500%\n",
            "Epoch: 11, Mini-Batches Completed: 1200, Loss: 0.645, Test Accuracy = 89.120%\n",
            "Epoch: 11, Mini-Batches Completed: 1300, Loss: 0.701, Test Accuracy = 88.310%\n",
            "Epoch: 11, Mini-Batches Completed: 1400, Loss: 0.673, Test Accuracy = 88.270%\n",
            "Epoch: 11, Mini-Batches Completed: 1500, Loss: 0.676, Test Accuracy = 89.120%\n",
            "Epoch: 11, Mini-Batches Completed: 1600, Loss: 0.657, Test Accuracy = 88.530%\n",
            "Epoch: 11, Mini-Batches Completed: 1700, Loss: 0.660, Test Accuracy = 88.660%\n",
            "Epoch: 11, Mini-Batches Completed: 1800, Loss: 0.647, Test Accuracy = 88.420%\n",
            "Starting Epoch: 12...\n",
            "Epoch: 12, Mini-Batches Completed: 100, Loss: 0.682, Test Accuracy = 89.030%\n",
            "Epoch: 12, Mini-Batches Completed: 200, Loss: 0.700, Test Accuracy = 88.310%\n",
            "Epoch: 12, Mini-Batches Completed: 300, Loss: 0.648, Test Accuracy = 89.140%\n",
            "Epoch: 12, Mini-Batches Completed: 400, Loss: 0.665, Test Accuracy = 88.940%\n",
            "Epoch: 12, Mini-Batches Completed: 500, Loss: 0.646, Test Accuracy = 88.930%\n",
            "Epoch: 12, Mini-Batches Completed: 600, Loss: 0.631, Test Accuracy = 88.740%\n",
            "Epoch: 12, Mini-Batches Completed: 700, Loss: 0.604, Test Accuracy = 88.210%\n",
            "Epoch: 12, Mini-Batches Completed: 800, Loss: 0.634, Test Accuracy = 88.820%\n",
            "Epoch: 12, Mini-Batches Completed: 900, Loss: 0.692, Test Accuracy = 89.160%\n",
            "Epoch: 12, Mini-Batches Completed: 1000, Loss: 0.663, Test Accuracy = 89.390%\n",
            "Epoch: 12, Mini-Batches Completed: 1100, Loss: 0.626, Test Accuracy = 89.410%\n",
            "Epoch: 12, Mini-Batches Completed: 1200, Loss: 0.688, Test Accuracy = 88.920%\n",
            "Epoch: 12, Mini-Batches Completed: 1300, Loss: 0.657, Test Accuracy = 89.300%\n",
            "Epoch: 12, Mini-Batches Completed: 1400, Loss: 0.739, Test Accuracy = 88.650%\n",
            "Epoch: 12, Mini-Batches Completed: 1500, Loss: 0.657, Test Accuracy = 88.820%\n",
            "Epoch: 12, Mini-Batches Completed: 1600, Loss: 0.664, Test Accuracy = 88.670%\n",
            "Epoch: 12, Mini-Batches Completed: 1700, Loss: 0.688, Test Accuracy = 88.380%\n",
            "Epoch: 12, Mini-Batches Completed: 1800, Loss: 0.678, Test Accuracy = 89.410%\n",
            "Starting Epoch: 13...\n",
            "Epoch: 13, Mini-Batches Completed: 100, Loss: 0.652, Test Accuracy = 89.180%\n",
            "Epoch: 13, Mini-Batches Completed: 200, Loss: 0.677, Test Accuracy = 88.480%\n",
            "Epoch: 13, Mini-Batches Completed: 300, Loss: 0.659, Test Accuracy = 88.820%\n",
            "Epoch: 13, Mini-Batches Completed: 400, Loss: 0.645, Test Accuracy = 89.290%\n",
            "Epoch: 13, Mini-Batches Completed: 500, Loss: 0.624, Test Accuracy = 89.290%\n",
            "Epoch: 13, Mini-Batches Completed: 600, Loss: 0.655, Test Accuracy = 88.440%\n",
            "Epoch: 13, Mini-Batches Completed: 700, Loss: 0.703, Test Accuracy = 89.650%\n",
            "Epoch: 13, Mini-Batches Completed: 800, Loss: 0.618, Test Accuracy = 88.830%\n",
            "Epoch: 13, Mini-Batches Completed: 900, Loss: 0.631, Test Accuracy = 88.570%\n",
            "Epoch: 13, Mini-Batches Completed: 1000, Loss: 0.687, Test Accuracy = 89.430%\n",
            "Epoch: 13, Mini-Batches Completed: 1100, Loss: 0.637, Test Accuracy = 89.560%\n",
            "Epoch: 13, Mini-Batches Completed: 1200, Loss: 0.691, Test Accuracy = 89.190%\n",
            "Epoch: 13, Mini-Batches Completed: 1300, Loss: 0.655, Test Accuracy = 89.610%\n",
            "Epoch: 13, Mini-Batches Completed: 1400, Loss: 0.652, Test Accuracy = 89.130%\n",
            "Epoch: 13, Mini-Batches Completed: 1500, Loss: 0.677, Test Accuracy = 89.240%\n",
            "Epoch: 13, Mini-Batches Completed: 1600, Loss: 0.625, Test Accuracy = 89.640%\n",
            "Epoch: 13, Mini-Batches Completed: 1700, Loss: 0.669, Test Accuracy = 88.970%\n",
            "Epoch: 13, Mini-Batches Completed: 1800, Loss: 0.604, Test Accuracy = 89.300%\n",
            "Starting Epoch: 14...\n",
            "Epoch: 14, Mini-Batches Completed: 100, Loss: 0.653, Test Accuracy = 89.230%\n",
            "Epoch: 14, Mini-Batches Completed: 200, Loss: 0.647, Test Accuracy = 89.240%\n",
            "Epoch: 14, Mini-Batches Completed: 300, Loss: 0.664, Test Accuracy = 89.100%\n",
            "Epoch: 14, Mini-Batches Completed: 400, Loss: 0.635, Test Accuracy = 89.110%\n",
            "Epoch: 14, Mini-Batches Completed: 500, Loss: 0.649, Test Accuracy = 89.360%\n",
            "Epoch: 14, Mini-Batches Completed: 600, Loss: 0.612, Test Accuracy = 88.910%\n",
            "Epoch: 14, Mini-Batches Completed: 700, Loss: 0.655, Test Accuracy = 89.300%\n",
            "Epoch: 14, Mini-Batches Completed: 800, Loss: 0.693, Test Accuracy = 89.380%\n",
            "Epoch: 14, Mini-Batches Completed: 900, Loss: 0.667, Test Accuracy = 89.470%\n",
            "Epoch: 14, Mini-Batches Completed: 1000, Loss: 0.598, Test Accuracy = 89.490%\n",
            "Epoch: 14, Mini-Batches Completed: 1100, Loss: 0.667, Test Accuracy = 89.320%\n",
            "Epoch: 14, Mini-Batches Completed: 1200, Loss: 0.670, Test Accuracy = 89.430%\n",
            "Epoch: 14, Mini-Batches Completed: 1300, Loss: 0.621, Test Accuracy = 89.200%\n",
            "Epoch: 14, Mini-Batches Completed: 1400, Loss: 0.612, Test Accuracy = 89.400%\n",
            "Epoch: 14, Mini-Batches Completed: 1500, Loss: 0.613, Test Accuracy = 89.550%\n",
            "Epoch: 14, Mini-Batches Completed: 1600, Loss: 0.628, Test Accuracy = 88.020%\n",
            "Epoch: 14, Mini-Batches Completed: 1700, Loss: 0.649, Test Accuracy = 89.240%\n",
            "Epoch: 14, Mini-Batches Completed: 1800, Loss: 0.635, Test Accuracy = 89.370%\n",
            "Starting Epoch: 15...\n",
            "Epoch: 15, Mini-Batches Completed: 100, Loss: 0.621, Test Accuracy = 88.800%\n",
            "Epoch: 15, Mini-Batches Completed: 200, Loss: 0.633, Test Accuracy = 88.940%\n",
            "Epoch: 15, Mini-Batches Completed: 300, Loss: 0.624, Test Accuracy = 88.230%\n",
            "Epoch: 15, Mini-Batches Completed: 400, Loss: 0.632, Test Accuracy = 89.270%\n",
            "Epoch: 15, Mini-Batches Completed: 500, Loss: 0.643, Test Accuracy = 88.150%\n",
            "Epoch: 15, Mini-Batches Completed: 600, Loss: 0.643, Test Accuracy = 89.130%\n",
            "Epoch: 15, Mini-Batches Completed: 700, Loss: 0.632, Test Accuracy = 89.550%\n",
            "Epoch: 15, Mini-Batches Completed: 800, Loss: 0.626, Test Accuracy = 89.420%\n",
            "Epoch: 15, Mini-Batches Completed: 900, Loss: 0.671, Test Accuracy = 88.770%\n",
            "Epoch: 15, Mini-Batches Completed: 1000, Loss: 0.644, Test Accuracy = 89.580%\n",
            "Epoch: 15, Mini-Batches Completed: 1100, Loss: 0.653, Test Accuracy = 89.510%\n",
            "Epoch: 15, Mini-Batches Completed: 1200, Loss: 0.604, Test Accuracy = 88.560%\n",
            "Epoch: 15, Mini-Batches Completed: 1300, Loss: 0.661, Test Accuracy = 88.590%\n",
            "Epoch: 15, Mini-Batches Completed: 1400, Loss: 0.652, Test Accuracy = 89.460%\n",
            "Epoch: 15, Mini-Batches Completed: 1500, Loss: 0.606, Test Accuracy = 88.880%\n",
            "Epoch: 15, Mini-Batches Completed: 1600, Loss: 0.655, Test Accuracy = 88.950%\n",
            "Epoch: 15, Mini-Batches Completed: 1700, Loss: 0.619, Test Accuracy = 89.390%\n",
            "Epoch: 15, Mini-Batches Completed: 1800, Loss: 0.626, Test Accuracy = 89.040%\n",
            "Finished Training\n"
          ]
        }
      ]
    },
    {
      "cell_type": "markdown",
      "metadata": {
        "id": "3IeeQTQgxKLd"
      },
      "source": [
        "### **Our Models Accuracy**"
      ]
    },
    {
      "cell_type": "code",
      "metadata": {
        "id": "aIsXUooIxMBp",
        "colab": {
          "base_uri": "https://localhost:8080/"
        },
        "outputId": "a35eb750-bc82-444f-c317-c1fac5daa90f"
      },
      "source": [
        "correct = 0\n",
        "total = 0\n",
        "\n",
        "with torch.no_grad():\n",
        "    for data in testloader:\n",
        "        images, labels = data\n",
        "        # Move our data to GPU\n",
        "        images = images.to(device)\n",
        "        labels = labels.to(device)\n",
        "        outputs = net(images)\n",
        "        _, predicted = torch.max(outputs.data, 1)\n",
        "        total += labels.size(0)\n",
        "        correct += (predicted == labels).sum().item()\n",
        "\n",
        "accuracy = 100 * correct / total\n",
        "print(f'Accuracy of the network on the 10000 test images: {accuracy:.4}%')"
      ],
      "execution_count": null,
      "outputs": [
        {
          "output_type": "stream",
          "name": "stdout",
          "text": [
            "Accuracy of the network on the 10000 test images: 89.53%\n"
          ]
        }
      ]
    },
    {
      "cell_type": "markdown",
      "metadata": {
        "id": "Adyah373xOXQ"
      },
      "source": [
        "### **Training Plots**"
      ]
    },
    {
      "cell_type": "code",
      "metadata": {
        "id": "uQt-cDJMxMrF",
        "colab": {
          "base_uri": "https://localhost:8080/",
          "height": 480
        },
        "outputId": "46875d15-a687-4b31-ba70-a0aee37ea4eb"
      },
      "source": [
        "import matplotlib.pyplot as plt\n",
        "\n",
        "# To create a plot with secondary y-axis we need to create a subplot\n",
        "fig, ax1 = plt.subplots()\n",
        "\n",
        "# Set title and x-axis label rotation\n",
        "plt.title(\"Accuracy & Loss vs Epoch Mini-Batches\")\n",
        "plt.xticks(rotation=45)\n",
        "\n",
        "# We use twinx to create a plot a secondary y axis\n",
        "ax2 = ax1.twinx()\n",
        "\n",
        "# Create plot for loss_log and accuracy_log\n",
        "ax1.plot(epoch_log, loss_log, 'g-')\n",
        "ax2.plot(epoch_log, accuracy_log, 'b-')\n",
        "\n",
        "# Set labels\n",
        "ax1.set_xlabel('Epochs')\n",
        "ax1.set_ylabel('Loss', color='g')\n",
        "ax2.set_ylabel('Test Accuracy', color='b')\n",
        "\n",
        "plt.show()"
      ],
      "execution_count": null,
      "outputs": [
        {
          "output_type": "display_data",
          "data": {
            "text/plain": [
              "<Figure size 640x480 with 2 Axes>"
            ],
            "image/png": "[encoded data removed]"
          },
          "metadata": {}
        }
      ]
    },
    {
      "cell_type": "markdown",
      "metadata": {
        "id": "PUEtO0oF56kv"
      },
      "source": [
        "#### **Early Stopping in PyTorch**\n",
        "\n",
        "https://github.com/Bjarten/early-stopping-pytorch"
      ]
    }
  ]
}