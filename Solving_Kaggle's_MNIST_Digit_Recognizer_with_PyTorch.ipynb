{
  "metadata": {
    "kernelspec": {
      "language": "python",
      "display_name": "Python 3",
      "name": "python3"
    },
    "language_info": {
      "name": "python",
      "version": "3.10.12",
      "mimetype": "text/x-python",
      "codemirror_mode": {
        "name": "ipython",
        "version": 3
      },
      "pygments_lexer": "ipython3",
      "nbconvert_exporter": "python",
      "file_extension": ".py"
    },
    "kaggle": {
      "accelerator": "none",
      "dataSources": [
        {
          "sourceId": 3004,
          "databundleVersionId": 861823,
          "sourceType": "competition"
        }
      ],
      "dockerImageVersionId": 30822,
      "isInternetEnabled": false,
      "language": "python",
      "sourceType": "notebook",
      "isGpuEnabled": false
    },
    "colab": {
      "provenance": [],
      "include_colab_link": true
    }
  },
  "nbformat_minor": 0,
  "nbformat": 4,
  "cells": [
    {
      "cell_type": "markdown",
      "metadata": {
        "id": "view-in-github",
        "colab_type": "text"
      },
      "source": [
        "<a href=\"https://colab.research.google.com/github/Davron030901/PyTorch/blob/main/Solving_Kaggle's_MNIST_Digit_Recognizer_with_PyTorch.ipynb\" target=\"_parent\"><img src=\"https://colab.research.google.com/assets/colab-badge.svg\" alt=\"Open In Colab\"/></a>"
      ]
    },
    {
      "cell_type": "code",
      "source": [
        "import numpy as np\n",
        "import pandas as pd\n",
        "import torch\n",
        "import torch.nn as nn\n",
        "import torch.optim as optim\n",
        "from torch.utils.data import Dataset, DataLoader\n",
        "from torchvision import transforms\n",
        "import matplotlib.pyplot as plt"
      ],
      "metadata": {
        "trusted": true,
        "execution": {
          "iopub.status.busy": "2024-12-25T00:28:15.535693Z",
          "iopub.execute_input": "2024-12-25T00:28:15.536020Z",
          "iopub.status.idle": "2024-12-25T00:28:15.540385Z",
          "shell.execute_reply.started": "2024-12-25T00:28:15.535994Z",
          "shell.execute_reply": "2024-12-25T00:28:15.539530Z"
        },
        "id": "Wx1A-wf9gx2I"
      },
      "outputs": [],
      "execution_count": null
    },
    {
      "cell_type": "code",
      "source": [
        "!wget https://raw.githubusercontent.com/Davron030901/PyTorch/main/data.zip"
      ],
      "metadata": {
        "colab": {
          "base_uri": "https://localhost:8080/"
        },
        "id": "qSfglUm018Xc",
        "outputId": "8ec5f74f-38bc-4f29-afa8-f240aa07819f"
      },
      "execution_count": null,
      "outputs": [
        {
          "output_type": "stream",
          "name": "stdout",
          "text": [
            "--2024-12-25 03:26:03--  https://raw.githubusercontent.com/Davron030901/PyTorch/main/data.zip\n",
            "Resolving raw.githubusercontent.com (raw.githubusercontent.com)... 185.199.108.133, 185.199.109.133, 185.199.110.133, ...\n",
            "Connecting to raw.githubusercontent.com (raw.githubusercontent.com)|185.199.108.133|:443... connected.\n",
            "HTTP request sent, awaiting response... 200 OK\n",
            "Length: 13566425 (13M) [application/zip]\n",
            "Saving to: ‘data.zip.1’\n",
            "\n",
            "\rdata.zip.1            0%[                    ]       0  --.-KB/s               \rdata.zip.1          100%[===================>]  12.94M  --.-KB/s    in 0.1s    \n",
            "\n",
            "2024-12-25 03:26:03 (121 MB/s) - ‘data.zip.1’ saved [13566425/13566425]\n",
            "\n"
          ]
        }
      ]
    },
    {
      "cell_type": "code",
      "source": [
        "import zipfile\n",
        "import pandas as pd\n",
        "\n",
        "# Path to your .zip file\n",
        "zip_file_path = 'data.zip'\n",
        "\n",
        "# Extract the zip file\n",
        "with zipfile.ZipFile(zip_file_path, 'r') as zip_ref:\n",
        "    zip_ref.extractall('')  # Extract the contents to a folder"
      ],
      "metadata": {
        "id": "r7tFMwmk2ESv"
      },
      "execution_count": null,
      "outputs": []
    },
    {
      "cell_type": "code",
      "source": [
        "device=torch.device(\"cuda\" if torch.cuda.is_available() else \"cpu\")"
      ],
      "metadata": {
        "trusted": true,
        "execution": {
          "iopub.status.busy": "2024-12-25T00:28:23.566543Z",
          "iopub.execute_input": "2024-12-25T00:28:23.566895Z",
          "iopub.status.idle": "2024-12-25T00:28:23.570992Z",
          "shell.execute_reply.started": "2024-12-25T00:28:23.566868Z",
          "shell.execute_reply": "2024-12-25T00:28:23.570003Z"
        },
        "id": "CaxB3z2-gx2J"
      },
      "outputs": [],
      "execution_count": null
    },
    {
      "cell_type": "code",
      "source": [
        "print(device)"
      ],
      "metadata": {
        "trusted": true,
        "execution": {
          "iopub.status.busy": "2024-12-25T00:28:23.973062Z",
          "iopub.execute_input": "2024-12-25T00:28:23.973429Z",
          "iopub.status.idle": "2024-12-25T00:28:23.978683Z",
          "shell.execute_reply.started": "2024-12-25T00:28:23.973397Z",
          "shell.execute_reply": "2024-12-25T00:28:23.977757Z"
        },
        "colab": {
          "base_uri": "https://localhost:8080/"
        },
        "id": "m3X5FYMvgx2J",
        "outputId": "237ef60c-7160-40d9-ef50-5ac2228b2bc9"
      },
      "outputs": [
        {
          "output_type": "stream",
          "name": "stdout",
          "text": [
            "cpu\n"
          ]
        }
      ],
      "execution_count": null
    },
    {
      "cell_type": "code",
      "source": [
        "class CustomMNISTDataset(Dataset):\n",
        "    def __init__(self, csv_file, transform=None, is_test=False):\n",
        "        self.data_frame = pd.read_csv(csv_file)\n",
        "        self.transform = transform\n",
        "        self.is_test = is_test\n",
        "\n",
        "    def __len__(self):\n",
        "        return len(self.data_frame)\n",
        "\n",
        "    def __getitem__(self, index):\n",
        "        item = self.data_frame.iloc[index]\n",
        "\n",
        "        if self.is_test:\n",
        "            image = item.values.reshape(28, 28).astype(np.uint8)  # Use uint8 for images\n",
        "            label = None\n",
        "        else:\n",
        "            image = item[1:].values.reshape(28, 28).astype(np.uint8)\n",
        "            label = item.iloc[0]\n",
        "\n",
        "        image = transforms.ToPILImage()(image)\n",
        "        if self.transform is not None:\n",
        "            image = self.transform(image)\n",
        "\n",
        "        if self.is_test:\n",
        "            return image\n",
        "        else:\n",
        "            return image, label"
      ],
      "metadata": {
        "trusted": true,
        "execution": {
          "iopub.status.busy": "2024-12-25T00:43:52.481561Z",
          "iopub.execute_input": "2024-12-25T00:43:52.481920Z",
          "iopub.status.idle": "2024-12-25T00:43:52.488426Z",
          "shell.execute_reply.started": "2024-12-25T00:43:52.481890Z",
          "shell.execute_reply": "2024-12-25T00:43:52.487372Z"
        },
        "id": "-l4c3tRYgx2K"
      },
      "outputs": [],
      "execution_count": null
    },
    {
      "cell_type": "code",
      "source": [
        "transform=transforms.Compose([\n",
        "    transforms.RandomRotation(15),\n",
        "    transforms.ToTensor(),\n",
        "    transforms.Normalize((0.5,),(0.5,))\n",
        "])"
      ],
      "metadata": {
        "trusted": true,
        "execution": {
          "iopub.status.busy": "2024-12-25T00:42:42.957836Z",
          "iopub.execute_input": "2024-12-25T00:42:42.958157Z",
          "iopub.status.idle": "2024-12-25T00:42:42.962513Z",
          "shell.execute_reply.started": "2024-12-25T00:42:42.958130Z",
          "shell.execute_reply": "2024-12-25T00:42:42.961432Z"
        },
        "id": "mgdtn1F3gx2K"
      },
      "outputs": [],
      "execution_count": null
    },
    {
      "cell_type": "code",
      "source": [
        "train_dataset=CustomMNISTDataset(csv_file='data/train.csv',transform=transform,is_test=False)\n",
        "test_dataset=CustomMNISTDataset(csv_file='data/test.csv',transform=transform,is_test=True)"
      ],
      "metadata": {
        "trusted": true,
        "execution": {
          "iopub.status.busy": "2024-12-25T00:54:04.817748Z",
          "iopub.execute_input": "2024-12-25T00:54:04.818096Z",
          "iopub.status.idle": "2024-12-25T00:54:08.350085Z",
          "shell.execute_reply.started": "2024-12-25T00:54:04.818067Z",
          "shell.execute_reply": "2024-12-25T00:54:08.349232Z"
        },
        "id": "rse5Wzqsgx2L"
      },
      "outputs": [],
      "execution_count": null
    },
    {
      "cell_type": "code",
      "source": [
        "print('Train Size:'+str(len(train_dataset))+', Test Size:'+str(len(test_dataset)))"
      ],
      "metadata": {
        "trusted": true,
        "execution": {
          "iopub.status.busy": "2024-12-25T00:54:08.351483Z",
          "iopub.execute_input": "2024-12-25T00:54:08.351833Z",
          "iopub.status.idle": "2024-12-25T00:54:08.357173Z",
          "shell.execute_reply.started": "2024-12-25T00:54:08.351796Z",
          "shell.execute_reply": "2024-12-25T00:54:08.356274Z"
        },
        "id": "e9AtJyPQgx2L",
        "colab": {
          "base_uri": "https://localhost:8080/"
        },
        "outputId": "49c37692-0016-4c80-8231-25c441a77438"
      },
      "outputs": [
        {
          "output_type": "stream",
          "name": "stdout",
          "text": [
            "Train Size:42000, Test Size:28000\n"
          ]
        }
      ],
      "execution_count": null
    },
    {
      "cell_type": "code",
      "source": [
        "train_dataset[1]"
      ],
      "metadata": {
        "trusted": true,
        "execution": {
          "iopub.status.busy": "2024-12-25T00:54:08.358672Z",
          "iopub.execute_input": "2024-12-25T00:54:08.358904Z",
          "iopub.status.idle": "2024-12-25T00:54:08.382520Z",
          "shell.execute_reply.started": "2024-12-25T00:54:08.358884Z",
          "shell.execute_reply": "2024-12-25T00:54:08.381766Z"
        },
        "id": "8NUQLZvbgx2L",
        "colab": {
          "base_uri": "https://localhost:8080/"
        },
        "outputId": "1a8f212b-bb39-457d-bf2a-14ab4796d96e"
      },
      "outputs": [
        {
          "output_type": "execute_result",
          "data": {
            "text/plain": [
              "(tensor([[[-1.0000, -1.0000, -1.0000, -1.0000, -1.0000, -1.0000, -1.0000,\n",
              "           -1.0000, -1.0000, -1.0000, -1.0000, -1.0000, -1.0000, -1.0000,\n",
              "           -1.0000, -1.0000, -1.0000, -1.0000, -1.0000, -1.0000, -1.0000,\n",
              "           -1.0000, -1.0000, -1.0000, -1.0000, -1.0000, -1.0000, -1.0000],\n",
              "          [-1.0000, -1.0000, -1.0000, -1.0000, -1.0000, -1.0000, -1.0000,\n",
              "           -1.0000, -1.0000, -1.0000, -1.0000, -1.0000, -1.0000, -1.0000,\n",
              "           -1.0000, -1.0000, -1.0000, -1.0000, -1.0000, -1.0000, -1.0000,\n",
              "           -1.0000, -1.0000, -1.0000, -1.0000, -1.0000, -1.0000, -1.0000],\n",
              "          [-1.0000, -1.0000, -1.0000, -1.0000, -1.0000, -1.0000, -1.0000,\n",
              "           -1.0000, -1.0000, -1.0000, -1.0000, -1.0000, -1.0000, -1.0000,\n",
              "           -1.0000, -1.0000, -1.0000, -1.0000, -1.0000, -1.0000, -1.0000,\n",
              "           -1.0000, -1.0000, -1.0000, -1.0000, -1.0000, -1.0000, -1.0000],\n",
              "          [-1.0000, -1.0000, -1.0000, -1.0000, -1.0000, -1.0000, -1.0000,\n",
              "           -1.0000, -1.0000, -1.0000, -1.0000, -1.0000, -0.8588, -1.0000,\n",
              "           -1.0000, -1.0000, -1.0000, -1.0000, -1.0000, -1.0000, -1.0000,\n",
              "           -1.0000, -1.0000, -1.0000, -1.0000, -1.0000, -1.0000, -1.0000],\n",
              "          [-1.0000, -1.0000, -1.0000, -1.0000, -1.0000, -1.0000, -1.0000,\n",
              "           -1.0000, -1.0000, -1.0000, -0.8980, -0.3255,  0.9608, -0.7647,\n",
              "            0.0745,  0.0745,  0.5059, -1.0000, -1.0000, -1.0000, -1.0000,\n",
              "           -1.0000, -1.0000, -1.0000, -1.0000, -1.0000, -1.0000, -1.0000],\n",
              "          [-1.0000, -1.0000, -1.0000, -1.0000, -1.0000, -1.0000, -1.0000,\n",
              "           -1.0000, -1.0000, -0.8745,  0.4039,  0.9922,  0.9922,  0.9922,\n",
              "            0.9922,  0.9922,  0.9922, -0.3255, -0.4353, -0.9922, -1.0000,\n",
              "           -1.0000, -1.0000, -1.0000, -1.0000, -1.0000, -1.0000, -1.0000],\n",
              "          [-1.0000, -1.0000, -1.0000, -1.0000, -1.0000, -1.0000, -1.0000,\n",
              "           -1.0000, -0.5216, -0.4353,  0.9922,  0.9922,  0.9922,  0.9922,\n",
              "            0.9922,  0.9922,  0.9922,  0.7020,  0.9294,  0.1843, -0.7490,\n",
              "           -1.0000, -1.0000, -1.0000, -1.0000, -1.0000, -1.0000, -1.0000],\n",
              "          [-1.0000, -1.0000, -1.0000, -1.0000, -1.0000, -1.0000, -1.0000,\n",
              "            0.3490,  0.9922,  0.9922,  0.9922,  0.9922,  0.9922,  0.9922,\n",
              "            0.9922,  0.9922,  0.9922,  0.9922,  0.9922,  0.9922,  0.8118,\n",
              "           -1.0000, -1.0000, -1.0000, -1.0000, -1.0000, -1.0000, -1.0000],\n",
              "          [-1.0000, -1.0000, -1.0000, -1.0000, -1.0000, -1.0000, -0.9922,\n",
              "            0.3647,  0.9922,  0.9922,  0.9922,  0.5843,  0.1529,  0.9922,\n",
              "           -0.1451, -0.3490,  0.5608,  0.9922,  0.9922,  0.9922,  0.9922,\n",
              "           -0.5765, -0.8824, -1.0000, -1.0000, -1.0000, -1.0000, -1.0000],\n",
              "          [-1.0000, -1.0000, -1.0000, -1.0000, -1.0000, -1.0000, -0.6314,\n",
              "            0.9922,  0.9922,  0.9922, -0.3020, -0.4745,  0.1529,  0.1529,\n",
              "           -0.6471, -1.0000, -0.9137,  0.9922,  0.9922,  0.9922,  0.9922,\n",
              "           -0.1843, -1.0000, -1.0000, -1.0000, -1.0000, -1.0000, -1.0000],\n",
              "          [-1.0000, -1.0000, -1.0000, -1.0000, -1.0000, -1.0000, -0.3725,\n",
              "            0.9922,  0.9922,  0.9922, -0.7725, -1.0000, -1.0000, -1.0000,\n",
              "           -1.0000, -1.0000, -0.9137, -0.7725,  0.5686,  0.9922,  0.9922,\n",
              "            0.9059, -0.3333, -1.0000, -1.0000, -1.0000, -1.0000, -1.0000],\n",
              "          [-1.0000, -1.0000, -1.0000, -1.0000, -1.0000, -0.4980,  0.9922,\n",
              "            0.9922,  0.8824, -0.8118, -0.8118, -1.0000, -1.0000, -1.0000,\n",
              "           -1.0000, -1.0000, -1.0000, -1.0000,  0.0039,  0.9765,  0.9922,\n",
              "            0.9922,  0.3412, -1.0000, -1.0000, -1.0000, -1.0000, -1.0000],\n",
              "          [-1.0000, -1.0000, -1.0000, -1.0000, -0.8902,  0.8196,  0.9922,\n",
              "            0.9922,  0.4588, -0.9451, -1.0000, -1.0000, -1.0000, -1.0000,\n",
              "           -1.0000, -1.0000, -1.0000, -1.0000, -0.3490, -0.3490,  0.9922,\n",
              "            0.9922,  0.6627, -0.4039, -1.0000, -1.0000, -1.0000, -1.0000],\n",
              "          [-1.0000, -1.0000, -1.0000, -1.0000, -0.8588,  0.9922,  0.9922,\n",
              "            0.9922,  0.9922, -0.7725, -1.0000, -1.0000, -1.0000, -1.0000,\n",
              "           -1.0000, -1.0000, -1.0000, -1.0000, -0.8039,  0.8824,  0.9922,\n",
              "            0.9922,  0.2000, -1.0000, -1.0000, -1.0000, -1.0000, -1.0000],\n",
              "          [-1.0000, -1.0000, -1.0000, -1.0000, -0.9843,  0.2784,  0.9922,\n",
              "            0.9922,  0.9922, -0.7725, -1.0000, -1.0000, -1.0000, -1.0000,\n",
              "           -1.0000, -1.0000, -1.0000, -1.0000, -1.0000,  0.3020,  0.9922,\n",
              "            0.9922,  0.2000, -1.0000, -1.0000, -1.0000, -1.0000, -1.0000],\n",
              "          [-1.0000, -1.0000, -1.0000, -1.0000, -0.2627,  0.9922,  0.9922,\n",
              "            0.9922, -0.7725, -0.7725, -1.0000, -1.0000, -1.0000, -1.0000,\n",
              "           -1.0000, -1.0000, -1.0000, -1.0000, -1.0000, -0.4118,  0.9922,\n",
              "            0.9922,  0.7569, -0.9059, -1.0000, -1.0000, -1.0000, -1.0000],\n",
              "          [-1.0000, -1.0000, -1.0000, -1.0000, -0.8824,  0.6157,  0.9922,\n",
              "            0.9922,  0.5686, -0.9059, -1.0000, -1.0000, -1.0000, -1.0000,\n",
              "           -1.0000, -1.0000, -1.0000, -1.0000, -1.0000, -0.6235,  0.9922,\n",
              "            0.9922,  0.9922, -0.8667, -1.0000, -1.0000, -1.0000, -1.0000],\n",
              "          [-1.0000, -1.0000, -1.0000, -1.0000, -1.0000, -0.5294,  0.6627,\n",
              "            0.9922,  0.9922,  0.5843, -0.4824, -1.0000, -1.0000, -1.0000,\n",
              "           -1.0000, -1.0000, -1.0000, -1.0000, -0.6235,  0.9922,  0.9922,\n",
              "            0.9922, -0.8667, -1.0000, -1.0000, -1.0000, -1.0000, -1.0000],\n",
              "          [-1.0000, -1.0000, -1.0000, -1.0000, -1.0000, -1.0000, -0.3255,\n",
              "            0.9922,  0.9922,  0.9922,  0.5216, -1.0000, -1.0000, -1.0000,\n",
              "           -1.0000, -1.0000, -1.0000, -0.8745,  0.6392,  0.9922,  0.9922,\n",
              "            0.9922, -0.8667, -1.0000, -1.0000, -1.0000, -1.0000, -1.0000],\n",
              "          [-1.0000, -1.0000, -1.0000, -1.0000, -1.0000, -1.0000, -0.1059,\n",
              "            0.9922,  0.9922,  0.9922,  0.9922, -0.6235, -0.6235, -0.7333,\n",
              "           -0.6784, -1.0000, -0.8353,  0.2627,  0.9922,  0.9922,  0.9922,\n",
              "            0.1765, -0.9922, -1.0000, -1.0000, -1.0000, -1.0000, -1.0000],\n",
              "          [-1.0000, -1.0000, -1.0000, -1.0000, -1.0000, -1.0000, -0.8980,\n",
              "            0.9922,  0.9922,  0.9922,  0.9922,  0.9922,  0.8275,  0.9059,\n",
              "            0.9922,  0.6392,  0.6392,  0.9922,  0.9922,  0.9922,  0.9216,\n",
              "           -0.7569, -1.0000, -1.0000, -1.0000, -1.0000, -1.0000, -1.0000],\n",
              "          [-1.0000, -1.0000, -1.0000, -1.0000, -1.0000, -1.0000, -1.0000,\n",
              "            0.4275,  0.9922,  0.9922,  0.9922,  0.9922,  0.9922,  0.9922,\n",
              "            0.9922,  0.9922,  0.9922,  0.9922,  0.9922,  0.3412, -1.0000,\n",
              "           -1.0000, -1.0000, -1.0000, -1.0000, -1.0000, -1.0000, -1.0000],\n",
              "          [-1.0000, -1.0000, -1.0000, -1.0000, -1.0000, -1.0000, -1.0000,\n",
              "           -0.9373, -0.4039,  0.1451,  0.9922,  0.9922,  0.9922,  0.9922,\n",
              "            0.9922,  0.9922,  0.9922,  0.8745, -0.3255, -0.3255, -1.0000,\n",
              "           -1.0000, -1.0000, -1.0000, -1.0000, -1.0000, -1.0000, -1.0000],\n",
              "          [-1.0000, -1.0000, -1.0000, -1.0000, -1.0000, -1.0000, -1.0000,\n",
              "           -1.0000, -1.0000, -1.0000, -1.0000,  1.0000,  0.9922,  1.0000,\n",
              "            0.1451,  0.9922,  0.9059, -0.4510, -1.0000, -0.9137, -1.0000,\n",
              "           -1.0000, -1.0000, -1.0000, -1.0000, -1.0000, -1.0000, -1.0000],\n",
              "          [-1.0000, -1.0000, -1.0000, -1.0000, -1.0000, -1.0000, -1.0000,\n",
              "           -1.0000, -1.0000, -1.0000, -1.0000, -1.0000, -1.0000, -1.0000,\n",
              "           -1.0000, -0.8510, -0.8824, -1.0000, -1.0000, -1.0000, -1.0000,\n",
              "           -1.0000, -1.0000, -1.0000, -1.0000, -1.0000, -1.0000, -1.0000],\n",
              "          [-1.0000, -1.0000, -1.0000, -1.0000, -1.0000, -1.0000, -1.0000,\n",
              "           -1.0000, -1.0000, -1.0000, -1.0000, -1.0000, -1.0000, -1.0000,\n",
              "           -1.0000, -1.0000, -1.0000, -1.0000, -1.0000, -1.0000, -1.0000,\n",
              "           -1.0000, -1.0000, -1.0000, -1.0000, -1.0000, -1.0000, -1.0000],\n",
              "          [-1.0000, -1.0000, -1.0000, -1.0000, -1.0000, -1.0000, -1.0000,\n",
              "           -1.0000, -1.0000, -1.0000, -1.0000, -1.0000, -1.0000, -1.0000,\n",
              "           -1.0000, -1.0000, -1.0000, -1.0000, -1.0000, -1.0000, -1.0000,\n",
              "           -1.0000, -1.0000, -1.0000, -1.0000, -1.0000, -1.0000, -1.0000],\n",
              "          [-1.0000, -1.0000, -1.0000, -1.0000, -1.0000, -1.0000, -1.0000,\n",
              "           -1.0000, -1.0000, -1.0000, -1.0000, -1.0000, -1.0000, -1.0000,\n",
              "           -1.0000, -1.0000, -1.0000, -1.0000, -1.0000, -1.0000, -1.0000,\n",
              "           -1.0000, -1.0000, -1.0000, -1.0000, -1.0000, -1.0000, -1.0000]]]),\n",
              " 0)"
            ]
          },
          "metadata": {},
          "execution_count": 12
        }
      ],
      "execution_count": null
    },
    {
      "cell_type": "code",
      "source": [
        "batch_size=64\n",
        "train_loader=torch.utils.data.DataLoader(dataset=train_dataset,batch_size=batch_size,shuffle=True,num_workers=2)\n",
        "test_loader=torch.utils.data.DataLoader(dataset=test_dataset,batch_size=batch_size,shuffle=False,num_workers=2)"
      ],
      "metadata": {
        "trusted": true,
        "execution": {
          "iopub.status.busy": "2024-12-25T00:54:08.383404Z",
          "iopub.execute_input": "2024-12-25T00:54:08.383633Z",
          "iopub.status.idle": "2024-12-25T00:54:08.389411Z",
          "shell.execute_reply.started": "2024-12-25T00:54:08.383613Z",
          "shell.execute_reply": "2024-12-25T00:54:08.388402Z"
        },
        "id": "kJ07MJ9agx2M"
      },
      "outputs": [],
      "execution_count": null
    },
    {
      "cell_type": "code",
      "source": [
        "for example_data,example_labels in train_loader:\n",
        "    example_image=example_data[0]\n",
        "    print('Input Size:' ,example_data.size())\n",
        "\n",
        "    example_image_numpy=example_image.permute(1,2,0).numpy()\n",
        "    plt.imshow(example_image_numpy)\n",
        "    plt.title(f\"Label: {example_labels[0]}\")\n",
        "    plt.show()\n",
        "    break"
      ],
      "metadata": {
        "trusted": true,
        "execution": {
          "iopub.status.busy": "2024-12-25T00:54:24.501563Z",
          "iopub.execute_input": "2024-12-25T00:54:24.501940Z",
          "iopub.status.idle": "2024-12-25T00:54:24.898535Z",
          "shell.execute_reply.started": "2024-12-25T00:54:24.501912Z",
          "shell.execute_reply": "2024-12-25T00:54:24.897623Z"
        },
        "id": "yAQ5_TiAgx2M",
        "colab": {
          "base_uri": "https://localhost:8080/",
          "height": 470
        },
        "outputId": "0be58065-00c8-4536-a6b4-6deeb3edaedc"
      },
      "outputs": [
        {
          "output_type": "stream",
          "name": "stdout",
          "text": [
            "Input Size: torch.Size([64, 1, 28, 28])\n"
          ]
        },
        {
          "output_type": "display_data",
          "data": {
            "text/plain": [
              "<Figure size 640x480 with 1 Axes>"
            ],
            "image/png": "[encoded data removed]"
          },
          "metadata": {}
        }
      ],
      "execution_count": null
    },
    {
      "cell_type": "code",
      "source": [
        "class SimpleCNN(nn.Module):\n",
        "    def __init__(self):\n",
        "        super(SimpleCNN,self).__init__()\n",
        "        self.conv1=nn.Conv2d(in_channels=1,out_channels=32,kernel_size=3,stride=1,padding=1)\n",
        "        self.relu=nn.ReLU()\n",
        "        self.pool=nn.MaxPool2d(kernel_size=2,stride=2)\n",
        "        self.conv2=nn.Conv2d(in_channels=32,out_channels=64,kernel_size=3,stride=1,padding=1)\n",
        "        self.conv3=nn.Conv2d(in_channels=64,out_channels=128,kernel_size=3,stride=1,padding=1)\n",
        "        self.pool=nn.MaxPool2d(kernel_size=2,stride=2)\n",
        "\n",
        "        # ((Width-kernel_size+2*Padding)/Stride)+1\n",
        "        # (28-3+2x1)/1+1,(28-3+2x1)/1+1(28-3+2x1)/1+1=14\n",
        "        self.fc1=nn.Linear(128*7*7,128)\n",
        "        self.dropout=nn.Dropout(0.5)\n",
        "        self.fc2=nn.Linear(128,20)\n",
        "        self.fc3=nn.Linear(20,10)\n",
        "\n",
        "    def forward(self,x):\n",
        "\n",
        "        x=self.conv1(x)\n",
        "        x=self.relu(x)\n",
        "        x=self.pool(x)\n",
        "        x=self.conv2(x)\n",
        "        x=self.relu(x)\n",
        "        x=self.conv3(x)\n",
        "        x=self.pool(x)\n",
        "\n",
        "        x_size=x.size(1)*x.size(2)*x.size(3)\n",
        "        x=x.view(-1,x_size)\n",
        "        x=self.fc1(x)\n",
        "        x=self.relu(x)\n",
        "        x=self.fc2(x)\n",
        "        x=self.fc3(x)\n",
        "        return x\n"
      ],
      "metadata": {
        "trusted": true,
        "execution": {
          "iopub.status.busy": "2024-12-25T01:16:55.699856Z",
          "iopub.execute_input": "2024-12-25T01:16:55.700172Z",
          "iopub.status.idle": "2024-12-25T01:16:55.709900Z",
          "shell.execute_reply.started": "2024-12-25T01:16:55.700149Z",
          "shell.execute_reply": "2024-12-25T01:16:55.709001Z"
        },
        "id": "gfACfVq7gx2M"
      },
      "outputs": [],
      "execution_count": null
    },
    {
      "cell_type": "code",
      "source": [
        "model = SimpleCNN().to(device)\n",
        "criterion = nn.CrossEntropyLoss()\n",
        "optimizer = optim.SGD(model.parameters(), lr=0.001, momentum=0.9)"
      ],
      "metadata": {
        "trusted": true,
        "execution": {
          "iopub.status.busy": "2024-12-25T01:36:06.056656Z",
          "iopub.execute_input": "2024-12-25T01:36:06.057013Z",
          "iopub.status.idle": "2024-12-25T01:36:06.071672Z",
          "shell.execute_reply.started": "2024-12-25T01:36:06.056982Z",
          "shell.execute_reply": "2024-12-25T01:36:06.070629Z"
        },
        "id": "2nCT5b74gx2N"
      },
      "outputs": [],
      "execution_count": null
    },
    {
      "cell_type": "markdown",
      "source": [],
      "metadata": {
        "id": "RzytzemZgx2N"
      }
    },
    {
      "cell_type": "code",
      "source": [
        "num_epochs = 2\n",
        "running_loss = 0.0\n",
        "\n",
        "for epoch in range(num_epochs):\n",
        "    for i, data in enumerate(train_loader, 0):\n",
        "        inputs, labels = data\n",
        "        inputs, labels = inputs.to(device), labels.to(device)\n",
        "\n",
        "        optimizer.zero_grad()\n",
        "\n",
        "        # Forward pass\n",
        "        outputs = model(inputs.float())  # Ensure inputs are float if necessary\n",
        "\n",
        "        # Compute loss\n",
        "        loss = criterion(outputs, labels)\n",
        "        loss.backward()\n",
        "\n",
        "        # Update weights\n",
        "        optimizer.step()\n",
        "\n",
        "        # Accumulate loss\n",
        "        running_loss += loss.item()\n",
        "        if i % 100 == 99:  # Print every 100 batches\n",
        "            print(f\"[{epoch+1}, {i+1}] Loss: {running_loss / 100:.3f}\")\n",
        "            running_loss = 0.0\n",
        "\n",
        "print(\"Training finished\")\n"
      ],
      "metadata": {
        "trusted": true,
        "execution": {
          "iopub.status.busy": "2024-12-25T01:36:13.868714Z",
          "iopub.execute_input": "2024-12-25T01:36:13.869042Z",
          "iopub.status.idle": "2024-12-25T01:38:24.243638Z",
          "shell.execute_reply.started": "2024-12-25T01:36:13.869015Z",
          "shell.execute_reply": "2024-12-25T01:38:24.242509Z"
        },
        "id": "TXTvUxJJgx2O",
        "colab": {
          "base_uri": "https://localhost:8080/"
        },
        "outputId": "35540b58-1d97-43c6-e98e-a1ec2af759a0"
      },
      "outputs": [
        {
          "output_type": "stream",
          "name": "stdout",
          "text": [
            "[1, 100] Loss: 2.304\n",
            "[1, 200] Loss: 2.289\n",
            "[1, 300] Loss: 2.264\n",
            "[1, 400] Loss: 2.185\n",
            "[1, 500] Loss: 1.868\n",
            "[1, 600] Loss: 1.134\n",
            "[2, 100] Loss: 0.984\n",
            "[2, 200] Loss: 0.477\n",
            "[2, 300] Loss: 0.428\n",
            "[2, 400] Loss: 0.394\n",
            "[2, 500] Loss: 0.374\n",
            "[2, 600] Loss: 0.354\n",
            "Training finished\n"
          ]
        }
      ],
      "execution_count": null
    },
    {
      "cell_type": "code",
      "source": [
        "model.eval()\n",
        "predictions = []\n",
        "\n",
        "with torch.no_grad():\n",
        "    for data in test_loader:\n",
        "        data = data.to(device)\n",
        "\n",
        "        outputs = model(data)\n",
        "        _, predicted = torch.max(outputs.data, 1)\n",
        "        predictions.extend(predicted.cpu().tolist())\n",
        "\n",
        "# Create a submission DataFrame\n",
        "submission = pd.DataFrame({\n",
        "    \"ImageId\": range(1, len(predictions) + 1),\n",
        "    \"Label\": predictions\n",
        "})\n",
        "\n",
        "# Save predictions to a CSV file\n",
        "submission.to_csv(\"predictions1221final.csv\", index=False)\n",
        "\n",
        "print(\"Predictions saved to predictions1221final.csv\")"
      ],
      "metadata": {
        "trusted": true,
        "execution": {
          "iopub.status.busy": "2024-12-25T01:42:24.249235Z",
          "iopub.execute_input": "2024-12-25T01:42:24.249660Z",
          "iopub.status.idle": "2024-12-25T01:42:45.038213Z",
          "shell.execute_reply.started": "2024-12-25T01:42:24.249625Z",
          "shell.execute_reply": "2024-12-25T01:42:45.037184Z"
        },
        "id": "dkd3WL27gx2P",
        "colab": {
          "base_uri": "https://localhost:8080/"
        },
        "outputId": "c7a9b196-2b7a-40c4-d8cb-ca0ecf323f38"
      },
      "outputs": [
        {
          "output_type": "stream",
          "name": "stdout",
          "text": [
            "Predictions saved to predictions1221final.csv\n"
          ]
        }
      ],
      "execution_count": null
    }
  ]
}