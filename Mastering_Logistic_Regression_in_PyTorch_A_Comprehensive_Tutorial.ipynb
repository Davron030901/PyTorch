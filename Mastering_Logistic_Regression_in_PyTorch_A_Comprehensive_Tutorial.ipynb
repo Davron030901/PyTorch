{
  "nbformat": 4,
  "nbformat_minor": 0,
  "metadata": {
    "colab": {
      "provenance": [],
      "include_colab_link": true
    },
    "kernelspec": {
      "name": "python3",
      "display_name": "Python 3"
    },
    "language_info": {
      "name": "python"
    }
  },
  "cells": [
    {
      "cell_type": "markdown",
      "metadata": {
        "id": "view-in-github",
        "colab_type": "text"
      },
      "source": [
        "<a href=\"https://colab.research.google.com/github/Davron030901/PyTorch/blob/main/Mastering_Logistic_Regression_in_PyTorch_A_Comprehensive_Tutorial.ipynb\" target=\"_parent\"><img src=\"https://colab.research.google.com/assets/colab-badge.svg\" alt=\"Open In Colab\"/></a>"
      ]
    },
    {
      "cell_type": "code",
      "execution_count": null,
      "metadata": {
        "id": "YL0xndksj_kG"
      },
      "outputs": [],
      "source": [
        "import torch\n",
        "import torch.nn as nn\n",
        "import numpy as np\n",
        "from sklearn.preprocessing import StandardScaler\n",
        "from sklearn.model_selection import train_test_split\n",
        "from sklearn.datasets import make_classification"
      ]
    },
    {
      "cell_type": "code",
      "source": [
        "device=torch.device('cuda' if torch.cuda.is_available() else 'cpu')"
      ],
      "metadata": {
        "id": "ZDbQGTdOkjlf"
      },
      "execution_count": null,
      "outputs": []
    },
    {
      "cell_type": "code",
      "source": [
        "X,y=make_classification(\n",
        "    n_samples=1000,\n",
        "    n_features=17,\n",
        "    n_informative=10,\n",
        "    n_redundant=7,\n",
        "    n_classes=2,\n",
        "    random_state=21)"
      ],
      "metadata": {
        "id": "7v85lt-hlCqm"
      },
      "execution_count": null,
      "outputs": []
    },
    {
      "cell_type": "code",
      "source": [
        "X.shape"
      ],
      "metadata": {
        "colab": {
          "base_uri": "https://localhost:8080/"
        },
        "id": "kpqbOkOsp7Td",
        "outputId": "66faf700-d982-4624-9d8e-acbbf53a5fa5"
      },
      "execution_count": null,
      "outputs": [
        {
          "output_type": "execute_result",
          "data": {
            "text/plain": [
              "(1000, 17)"
            ]
          },
          "metadata": {},
          "execution_count": 4
        }
      ]
    },
    {
      "cell_type": "code",
      "source": [
        "n_samples,n_features=X.shape"
      ],
      "metadata": {
        "id": "0RuDZTZlp7QF"
      },
      "execution_count": null,
      "outputs": []
    },
    {
      "cell_type": "code",
      "source": [
        "X_train,X_test,y_train,y_test=train_test_split(X,y,test_size=0.2,random_state=18)"
      ],
      "metadata": {
        "id": "DHSMV189p7Mj"
      },
      "execution_count": null,
      "outputs": []
    },
    {
      "cell_type": "code",
      "source": [
        "sc=StandardScaler()\n",
        "X_train=sc.fit_transform(X_train)\n",
        "X_test=sc.transform(X_test)"
      ],
      "metadata": {
        "id": "I0CGCfy9p7Jt"
      },
      "execution_count": null,
      "outputs": []
    },
    {
      "cell_type": "code",
      "source": [
        "X_train=torch.from_numpy(X_train).type(torch.float32).to(device)\n",
        "X_test=torch.from_numpy(X_test).type(torch.float32).to(device)\n",
        "y_train=torch.from_numpy(y_train).type(torch.float32).view(-1,1).to(device)\n",
        "y_test=torch.from_numpy(y_test).type(torch.float32).view(-1,1).to(device)"
      ],
      "metadata": {
        "id": "Y39J9jeUp6_4"
      },
      "execution_count": null,
      "outputs": []
    },
    {
      "cell_type": "code",
      "source": [
        "class LogisticRegression(nn.Module):\n",
        "    def __init__(self,n_input_features):\n",
        "        super(LogisticRegression,self).__init__()\n",
        "        self.linear1=nn.Linear(n_input_features,20)\n",
        "        self.linear2=nn.Linear(20,1)\n",
        "        self.elu=nn.ELU()\n",
        "\n",
        "    def forward(self,x):\n",
        "        out=self.linear1(x)\n",
        "        out=self.elu(out)\n",
        "        y_pred=torch.sigmoid(self.linear2(out))\n",
        "        return y_pred"
      ],
      "metadata": {
        "id": "YgmFbTg1rNuO"
      },
      "execution_count": null,
      "outputs": []
    },
    {
      "cell_type": "code",
      "source": [
        "model=LogisticRegression(n_features).to(device)"
      ],
      "metadata": {
        "id": "DCzGG9i9si3q"
      },
      "execution_count": null,
      "outputs": []
    },
    {
      "cell_type": "code",
      "source": [
        "learning_rate=0.01\n",
        "criterion=nn.BCELoss()\n",
        "optimizer=torch.optim.SGD(model.parameters(),lr=learning_rate)"
      ],
      "metadata": {
        "id": "GQaCWqg_s0Cw"
      },
      "execution_count": null,
      "outputs": []
    },
    {
      "cell_type": "code",
      "source": [
        "num_epochs=5000\n",
        "for epoch in range(num_epochs):\n",
        "    model.train()\n",
        "    y_pred=model(X_train)\n",
        "    loss=criterion(y_pred,y_train)\n",
        "\n",
        "    loss.backward()\n",
        "    optimizer.step()\n",
        "    optimizer.zero_grad()\n",
        "\n",
        "    if (epoch+1)%100==0:\n",
        "        print(f'epoch: {epoch+1}, loss = {loss.item():.4f}')"
      ],
      "metadata": {
        "colab": {
          "base_uri": "https://localhost:8080/"
        },
        "id": "KUBYwNbFtMXe",
        "outputId": "e32c3a0c-01d1-4053-8153-d5a7903dac54"
      },
      "execution_count": null,
      "outputs": [
        {
          "output_type": "stream",
          "name": "stdout",
          "text": [
            "epoch: 100, loss = 0.1984\n",
            "epoch: 200, loss = 0.1979\n",
            "epoch: 300, loss = 0.1975\n",
            "epoch: 400, loss = 0.1970\n",
            "epoch: 500, loss = 0.1966\n",
            "epoch: 600, loss = 0.1961\n",
            "epoch: 700, loss = 0.1957\n",
            "epoch: 800, loss = 0.1953\n",
            "epoch: 900, loss = 0.1948\n",
            "epoch: 1000, loss = 0.1944\n",
            "epoch: 1100, loss = 0.1940\n",
            "epoch: 1200, loss = 0.1936\n",
            "epoch: 1300, loss = 0.1931\n",
            "epoch: 1400, loss = 0.1927\n",
            "epoch: 1500, loss = 0.1923\n",
            "epoch: 1600, loss = 0.1919\n",
            "epoch: 1700, loss = 0.1915\n",
            "epoch: 1800, loss = 0.1911\n",
            "epoch: 1900, loss = 0.1907\n",
            "epoch: 2000, loss = 0.1903\n",
            "epoch: 2100, loss = 0.1899\n",
            "epoch: 2200, loss = 0.1895\n",
            "epoch: 2300, loss = 0.1891\n",
            "epoch: 2400, loss = 0.1887\n",
            "epoch: 2500, loss = 0.1883\n",
            "epoch: 2600, loss = 0.1879\n",
            "epoch: 2700, loss = 0.1875\n",
            "epoch: 2800, loss = 0.1871\n",
            "epoch: 2900, loss = 0.1867\n",
            "epoch: 3000, loss = 0.1864\n",
            "epoch: 3100, loss = 0.1860\n",
            "epoch: 3200, loss = 0.1856\n",
            "epoch: 3300, loss = 0.1852\n",
            "epoch: 3400, loss = 0.1849\n",
            "epoch: 3500, loss = 0.1845\n",
            "epoch: 3600, loss = 0.1841\n",
            "epoch: 3700, loss = 0.1838\n",
            "epoch: 3800, loss = 0.1834\n",
            "epoch: 3900, loss = 0.1831\n",
            "epoch: 4000, loss = 0.1827\n",
            "epoch: 4100, loss = 0.1823\n",
            "epoch: 4200, loss = 0.1820\n",
            "epoch: 4300, loss = 0.1816\n",
            "epoch: 4400, loss = 0.1813\n",
            "epoch: 4500, loss = 0.1809\n",
            "epoch: 4600, loss = 0.1806\n",
            "epoch: 4700, loss = 0.1802\n",
            "epoch: 4800, loss = 0.1799\n",
            "epoch: 4900, loss = 0.1796\n",
            "epoch: 5000, loss = 0.1792\n"
          ]
        }
      ]
    },
    {
      "cell_type": "code",
      "source": [
        "model.eval()\n",
        "with torch.inference_mode():\n",
        "    y_pred=model(X_test)\n",
        "    y_pred_cls=y_pred.round()\n",
        "    acc=y_pred_cls.eq(y_test).sum()/float(y_test.shape[0])\n",
        "    print(f'accuracy: {acc:.4f}')"
      ],
      "metadata": {
        "colab": {
          "base_uri": "https://localhost:8080/"
        },
        "id": "nLPKAoBdt5uw",
        "outputId": "8d7b726e-8561-4f91-ef35-480eb98a71e3"
      },
      "execution_count": null,
      "outputs": [
        {
          "output_type": "stream",
          "name": "stdout",
          "text": [
            "accuracy: 0.9350\n"
          ]
        }
      ]
    }
  ]
}